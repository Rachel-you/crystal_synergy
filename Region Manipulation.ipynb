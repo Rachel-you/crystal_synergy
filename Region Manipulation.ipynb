{
 "cells": [
  {
   "cell_type": "markdown",
   "metadata": {},
   "source": [
    "# Geographic Manipulation\n",
    "\n",
    "* Reduce the number of categories (regions) within the Comp Terr column\n",
    "* Rename the column for simplification\n",
    "* Check the Null Values"
   ]
  },
  {
   "cell_type": "markdown",
   "metadata": {},
   "source": [
    "## Read in the current dataset \n",
    "\n",
    "* Check the number of categories within the dataset\n",
    "* Determine the unified categories for simplification"
   ]
  },
  {
   "cell_type": "code",
   "execution_count": 2,
   "metadata": {},
   "outputs": [],
   "source": [
    "import pandas as pd"
   ]
  },
  {
   "cell_type": "code",
   "execution_count": 4,
   "metadata": {},
   "outputs": [
    {
     "name": "stdout",
     "output_type": "stream",
     "text": [
      "   Unnamed: 0       C1AccountNo        CXRecords Comp Terr   Latitude  Year  \\\n",
      "0           0  A2061733054*,CNR  91470CV(.{82 W<      MCOW   0.000000  2018   \n",
      "1           1  A2061733056$=L._  91470FS$KD_> W<   Western  37.773032  2018   \n",
      "2           2  A2061733057#*N-2  91470GQ%![I! W<   Central  42.135659  2018   \n",
      "3           3  A2061733058)U90^  91470I8%.+ML W<   Western  33.436405  2018   \n",
      "4           4  A2061733059#5)>2  91470KJ(,V-0 W<   Central   0.000000  2018   \n",
      "\n",
      "         1         2       3    4  ...      q2      q3       q4     sales  \\\n",
      "0     0.00      0.00    0.00  0.0  ...    0.00    0.00     0.00      0.00   \n",
      "1     0.00      0.00    0.00  0.0  ...    0.00  639.00  1438.00   4154.00   \n",
      "2  1730.06  10023.32  108.18  0.0  ...    0.00    0.00  1143.74  26010.60   \n",
      "3     0.00      0.00    0.00  0.0  ...  306.86    0.00   277.38   1168.48   \n",
      "4     0.00      0.00    0.00  0.0  ...    0.00  153.46     0.00    306.92   \n",
      "\n",
      "   individual  q1_calculated  q2_calculated  q3_calculated  q4_calculated  \\\n",
      "0           0           0.00           0.00           0.00           0.00   \n",
      "1           0           0.00           0.00         639.00        1438.00   \n",
      "2           0       11861.56           0.00           0.00        1143.74   \n",
      "3           0           0.00         306.86           0.00         277.38   \n",
      "4           0           0.00           0.00         153.46           0.00   \n",
      "\n",
      "   individual_calculated  \n",
      "0                   0.00  \n",
      "1                2077.00  \n",
      "2               13005.30  \n",
      "3                 584.24  \n",
      "4                 153.46  \n",
      "\n",
      "[5 rows x 29 columns]\n"
     ]
    }
   ],
   "source": [
    "file_path = 'final_data_with_origin_and_calculate.csv'\n",
    "dataset_og = pd.read_csv(file_path)\n",
    "print(dataset_og.head())\n"
   ]
  },
  {
   "cell_type": "code",
   "execution_count": 5,
   "metadata": {},
   "outputs": [
    {
     "name": "stdout",
     "output_type": "stream",
     "text": [
      "Unnamed: 0\n",
      "C1AccountNo\n",
      "CXRecords\n",
      "Comp Terr\n",
      "Latitude\n",
      "Year\n",
      "1\n",
      "2\n",
      "3\n",
      "4\n",
      "5\n",
      "6\n",
      "7\n",
      "8\n",
      "9\n",
      "10\n",
      "11\n",
      "12\n",
      "q1\n",
      "q2\n",
      "q3\n",
      "q4\n",
      "sales\n",
      "individual\n",
      "q1_calculated\n",
      "q2_calculated\n",
      "q3_calculated\n",
      "q4_calculated\n",
      "individual_calculated\n"
     ]
    }
   ],
   "source": [
    "for column in dataset_og.columns:\n",
    "    print(column)"
   ]
  },
  {
   "cell_type": "code",
   "execution_count": 6,
   "metadata": {},
   "outputs": [
    {
     "name": "stdout",
     "output_type": "stream",
     "text": [
      "Number of rows for the year 2018: 5700\n",
      "Number of rows for the year 2019: 6201\n",
      "Number of rows for the year 2020: 5573\n",
      "Number of rows for the year 2021: 5898\n",
      "Number of rows for the year 2022: 6450\n",
      "Number of rows for the year 2023: 7236\n",
      "Number of rows for the year 2024: 4983\n"
     ]
    }
   ],
   "source": [
    "# Count the rows for each year\n",
    "years = [2018, 2019, 2020, 2021, 2022, 2023, 2024]\n",
    "\n",
    "for year in years:\n",
    "    count = dataset_og[dataset_og['Year'] == year].shape[0]\n",
    "    print(f\"Number of rows for the year {year}: {count}\")"
   ]
  },
  {
   "cell_type": "code",
   "execution_count": 7,
   "metadata": {},
   "outputs": [
    {
     "name": "stdout",
     "output_type": "stream",
     "text": [
      "        C1AccountNo        CXRecords Territory   Latitude  Year        1  \\\n",
      "0  A2061733054*,CNR  91470CV(.{82 W<      MCOW   0.000000  2018     0.00   \n",
      "1  A2061733056$=L._  91470FS$KD_> W<   Western  37.773032  2018     0.00   \n",
      "2  A2061733057#*N-2  91470GQ%![I! W<   Central  42.135659  2018  1730.06   \n",
      "3  A2061733058)U90^  91470I8%.+ML W<   Western  33.436405  2018     0.00   \n",
      "4  A2061733059#5)>2  91470KJ(,V-0 W<   Central   0.000000  2018     0.00   \n",
      "\n",
      "          2       3    4       5  ...      q2      q3       q4     sales  \\\n",
      "0      0.00    0.00  0.0    0.00  ...    0.00    0.00     0.00      0.00   \n",
      "1      0.00    0.00  0.0    0.00  ...    0.00  639.00  1438.00   4154.00   \n",
      "2  10023.32  108.18  0.0    0.00  ...    0.00    0.00  1143.74  26010.60   \n",
      "3      0.00    0.00  0.0  306.86  ...  306.86    0.00   277.38   1168.48   \n",
      "4      0.00    0.00  0.0    0.00  ...    0.00  153.46     0.00    306.92   \n",
      "\n",
      "   individual  q1_calculated  q2_calculated  q3_calculated  q4_calculated  \\\n",
      "0           0           0.00           0.00           0.00           0.00   \n",
      "1           0           0.00           0.00         639.00        1438.00   \n",
      "2           0       11861.56           0.00           0.00        1143.74   \n",
      "3           0           0.00         306.86           0.00         277.38   \n",
      "4           0           0.00           0.00         153.46           0.00   \n",
      "\n",
      "   individual_calculated  \n",
      "0                   0.00  \n",
      "1                2077.00  \n",
      "2               13005.30  \n",
      "3                 584.24  \n",
      "4                 153.46  \n",
      "\n",
      "[5 rows x 28 columns]\n"
     ]
    }
   ],
   "source": [
    "# Drop index column\n",
    "df = dataset_og.drop(columns=['Unnamed: 0'])\n",
    "\n",
    "# Rename the Company Terr column to Territory\n",
    "df = df.rename(columns={'Comp Terr': 'Territory'})\n",
    "\n",
    "print(df.head())"
   ]
  },
  {
   "cell_type": "code",
   "execution_count": 8,
   "metadata": {},
   "outputs": [
    {
     "name": "stdout",
     "output_type": "stream",
     "text": [
      "Number of unique categories in 'Territory': 15\n",
      "Unique categories in 'Territory': ['MCOW' 'Western' 'Central' 'Midwest' 'Northeast' 'Southern' 'Minnesota'\n",
      " 'INTL' 'Unknown' 'California' 'East' 'West_x000D_\\n' 'MN-West'\n",
      " 'Washington' 'North']\n"
     ]
    }
   ],
   "source": [
    "# Check the number of categories (regions) in the Territory Column\n",
    "num_categories = df['Territory'].nunique()\n",
    "print(f\"Number of unique categories in 'Territory': {num_categories}\")\n",
    "\n",
    "unique_categories = df['Territory'].unique()\n",
    "print(f\"Unique categories in 'Territory': {unique_categories}\")"
   ]
  },
  {
   "cell_type": "markdown",
   "metadata": {},
   "source": [
    "## Regroup the Categories \n",
    "\n",
    "* West: Includes territories such as 'Western', 'West_x000D_\\n', 'California', 'Washington'.\n",
    "* Midwest: Includes 'Midwest', 'Minnesota', 'Central', 'MN-West'.\n",
    "* Northeast: Includes 'Northeast', 'East'.\n",
    "* North: Include 'North'.\n",
    "* South: Includes 'Southern'.\n",
    "* International: Includes 'INTL'.\n",
    "* Unknown: Includes 'Unknown'.\n",
    "* Special: Includes 'MCOW' (as we do not know what MCOW mean right now)"
   ]
  },
  {
   "cell_type": "code",
   "execution_count": 9,
   "metadata": {},
   "outputs": [
    {
     "name": "stdout",
     "output_type": "stream",
     "text": [
      "['MCOW' 'Western' 'Central' 'Midwest' 'Northeast' 'Southern' 'Minnesota'\n",
      " 'INTL' 'Unknown' 'California' 'East' 'West_x000D_\\n' 'MN-West'\n",
      " 'Washington' 'North']\n",
      "Midwest          13774\n",
      "South             9447\n",
      "West              8538\n",
      "Northeast         8378\n",
      "Unknown           1080\n",
      "International      804\n",
      "Special             19\n",
      "North                1\n",
      "Name: Territory_Group, dtype: int64\n"
     ]
    }
   ],
   "source": [
    "# Define a mapping for the new grouped categories\n",
    "territory_mapping = {\n",
    "    'MCOW': 'Special',  \n",
    "    'Western': 'West',\n",
    "    'West_x000D_\\n': 'West',\n",
    "    'California': 'West',\n",
    "    'Washington': 'West',\n",
    "    'Central': 'Midwest',\n",
    "    'Midwest': 'Midwest',\n",
    "    'Minnesota': 'Midwest',\n",
    "    'MN-West': 'Midwest',\n",
    "    'Northeast': 'Northeast',\n",
    "    'East': 'Northeast',\n",
    "    'Southern': 'South',\n",
    "    'INTL': 'International',\n",
    "    'Unknown': 'Unknown',\n",
    "    'North': 'North'\n",
    "}\n",
    "\n",
    "df['Territory_Group'] = df['Territory'].map(territory_mapping)\n",
    "\n",
    "unique_categories_group = df['Territory_Group'].unique()\n",
    "num_categories_group = df['Territory_Group'].value_counts()\n",
    "print(unique_categories_group)\n",
    "print(num_categories_group)\n"
   ]
  },
  {
   "cell_type": "code",
   "execution_count": 10,
   "metadata": {},
   "outputs": [
    {
     "name": "stdout",
     "output_type": "stream",
     "text": [
      "['Special' 'West' 'Midwest' 'Northeast' 'South' 'International' 'Unknown'\n",
      " 'North']\n"
     ]
    }
   ],
   "source": [
    "unique_categories_group = df['Territory_Group'].unique()\n",
    "print(unique_categories_group)"
   ]
  },
  {
   "cell_type": "markdown",
   "metadata": {},
   "source": [
    "## Check the number of Null Values in Terriry"
   ]
  },
  {
   "cell_type": "code",
   "execution_count": 11,
   "metadata": {},
   "outputs": [
    {
     "name": "stdout",
     "output_type": "stream",
     "text": [
      "Missing values for each column:\n",
      "C1AccountNo              0\n",
      "CXRecords                0\n",
      "Territory                0\n",
      "Latitude                 0\n",
      "Year                     0\n",
      "1                        0\n",
      "2                        0\n",
      "3                        0\n",
      "4                        0\n",
      "5                        0\n",
      "6                        0\n",
      "7                        0\n",
      "8                        0\n",
      "9                        0\n",
      "10                       0\n",
      "11                       0\n",
      "12                       0\n",
      "q1                       0\n",
      "q2                       0\n",
      "q3                       0\n",
      "q4                       0\n",
      "sales                    0\n",
      "individual               0\n",
      "q1_calculated            0\n",
      "q2_calculated            0\n",
      "q3_calculated            0\n",
      "q4_calculated            0\n",
      "individual_calculated    0\n",
      "Territory_Group          0\n",
      "dtype: int64\n"
     ]
    }
   ],
   "source": [
    "missing_per_column = df.isnull().sum()\n",
    "print(\"Missing values for each column:\")\n",
    "print(missing_per_column)"
   ]
  },
  {
   "cell_type": "code",
   "execution_count": 12,
   "metadata": {},
   "outputs": [
    {
     "name": "stdout",
     "output_type": "stream",
     "text": [
      "Total missing values in the dataset: 0\n"
     ]
    }
   ],
   "source": [
    "total_missing = df.isnull().sum().sum()\n",
    "print(f\"Total missing values in the dataset: {total_missing}\")"
   ]
  },
  {
   "cell_type": "code",
   "execution_count": 13,
   "metadata": {},
   "outputs": [
    {
     "name": "stdout",
     "output_type": "stream",
     "text": [
      "Count of 'Unknown' categories in 'Territory' for each year:\n",
      "Year\n",
      "2018     16\n",
      "2019     11\n",
      "2020      7\n",
      "2021    363\n",
      "2022    288\n",
      "2023    225\n",
      "2024    170\n",
      "dtype: int64\n"
     ]
    }
   ],
   "source": [
    "# Check how many accounts with unknown Territory for each year\n",
    "unknown_counts_per_year = df[df['Territory'] == 'Unknown'].groupby('Year').size()\n",
    "print(\"Count of 'Unknown' categories in 'Territory' for each year:\")\n",
    "print(unknown_counts_per_year)"
   ]
  },
  {
   "cell_type": "markdown",
   "metadata": {},
   "source": [
    "## Export the df dataframen into csv file"
   ]
  },
  {
   "cell_type": "code",
   "execution_count": 14,
   "metadata": {},
   "outputs": [],
   "source": [
    "output_file_path = 'region_cleaned_final_data.csv'\n",
    "df.to_csv(output_file_path, index=False)"
   ]
  }
 ],
 "metadata": {
  "kernelspec": {
   "display_name": "Python 3",
   "language": "python",
   "name": "python3"
  },
  "language_info": {
   "codemirror_mode": {
    "name": "ipython",
    "version": 3
   },
   "file_extension": ".py",
   "mimetype": "text/x-python",
   "name": "python",
   "nbconvert_exporter": "python",
   "pygments_lexer": "ipython3",
   "version": "3.10.8"
  }
 },
 "nbformat": 4,
 "nbformat_minor": 2
}
