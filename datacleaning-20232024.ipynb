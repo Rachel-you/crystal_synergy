{
 "cells": [
  {
   "cell_type": "markdown",
   "metadata": {},
   "source": [
    "# Data Cleaning Code for 2024 and 2023 Sales Data\n",
    "* Data Cleaning Code\n",
    "* Data SumarizationMB\n"
   ]
  },
  {
   "cell_type": "markdown",
   "metadata": {},
   "source": [
    "## Merge Files for 2024 Sales Data\n",
    "* Through matching composition key (C1AccountNp & CXRecords)\n",
    "* Keep rows with 0 sales for consistency"
   ]
  },
  {
   "cell_type": "code",
   "execution_count": 1,
   "metadata": {},
   "outputs": [],
   "source": [
    "import pandas as pd"
   ]
  },
  {
   "cell_type": "code",
   "execution_count": 2,
   "metadata": {},
   "outputs": [
    {
     "name": "stdout",
     "output_type": "stream",
     "text": [
      "        C1AccountNo        CXRecords  2024 Apr  2024 Jun  2024 Jul  2024 Aug  \\\n",
      "0  A2061733054*,CNR  91470CV(.{82 W<       0.0       0.0       0.0       0.0   \n",
      "1  A2061733055&RY+5  91470ER(#7ZS W<       0.0       0.0       0.0       0.0   \n",
      "2  A2061733055&RY+5  9147BAL$5?9W W<       0.0       0.0       0.0       0.0   \n",
      "3  A2061733055(MK58  91470DV#294$ W<       0.0       0.0       0.0       0.0   \n",
      "4  A2061733055)S{G]  91470F3(E^Q/ W<       0.0       0.0       0.0       0.0   \n",
      "\n",
      "   2024 Nov  2024 Oct  2024 May  2024 Dec  2024 Q1  2024 Q2  \n",
      "0         0         0       0.0         0      0.0      0.0  \n",
      "1         0         0       0.0         0      0.0      0.0  \n",
      "2         0         0       0.0         0      0.0      0.0  \n",
      "3         0         0       0.0         0      0.0      0.0  \n",
      "4         0         0       0.0         0      0.0      0.0  \n"
     ]
    }
   ],
   "source": [
    "fp2024 = pd.read_excel(\"Goldmine 2024 Sales.xlsx\")\n",
    "print(fp2024.head())\n"
   ]
  },
  {
   "cell_type": "code",
   "execution_count": 3,
   "metadata": {},
   "outputs": [
    {
     "name": "stdout",
     "output_type": "stream",
     "text": [
      "        C1AccountNo        CXRecords  2023 Q4 PromoStandards Company Store  \\\n",
      "0  A2061733055&RY+5  91470ER(#7ZS W<      0.0            NaN           NaN   \n",
      "1  A2061733055)S{G]  91470F3(E^Q/ W<      0.0            NaN           NaN   \n",
      "2  A2061733056$FX$L  91470G4$R)&< W<      0.0            NaN           NaN   \n",
      "3  A2061733057#*N-2  91470GQ%![I! W<      0.0            NaN           NaN   \n",
      "4  A2061733058#^F7+  91470IF(9`JJ W<      0.0            NaN           NaN   \n",
      "\n",
      "   2024 Sales  2024 Jan  2024 Feb  2024 Mar  2024 Sep  \n",
      "0           0       0.0       0.0       0.0         0  \n",
      "1           0       0.0       0.0       0.0         0  \n",
      "2           0       0.0       0.0       0.0         0  \n",
      "3       44328       0.0       0.0       0.0         0  \n",
      "4           0       0.0       0.0       0.0         0  \n"
     ]
    }
   ],
   "source": [
    "sp2024 = pd.read_excel(\"Goldmine 2023 Q4 and some 2024 Sales.xlsx\")\n",
    "print(sp2024.head())"
   ]
  },
  {
   "cell_type": "markdown",
   "metadata": {},
   "source": [
    "### Initial Dataset Summaries\n",
    "* Number of Rows\n",
    "* Numbr of unique keys (composition key for each dataset)\n",
    "* Whether there are mismatched keys in two dataset: to determine whether there are missing accounts (keys) for some months\n",
    "* Examine the missing Values (Examine each column with missing values)\n",
    "* Determine whether the two datasets could be merged without additional manipulation ot information"
   ]
  },
  {
   "cell_type": "code",
   "execution_count": 6,
   "metadata": {},
   "outputs": [
    {
     "name": "stdout",
     "output_type": "stream",
     "text": [
      "(124414, 12)\n",
      "(124414, 10)\n"
     ]
    }
   ],
   "source": [
    "# Examine the number of rows and columns for each dataset\n",
    "print(fp2024.shape) \n",
    "print(sp2024.shape) "
   ]
  },
  {
   "cell_type": "code",
   "execution_count": 7,
   "metadata": {},
   "outputs": [
    {
     "name": "stdout",
     "output_type": "stream",
     "text": [
      "There are 124414 unique composite keys in the Goldmine 2024 Sales Dataset\n",
      "There are 124414 unique composite keys in the Goldmine 2023 Q4 and some 2024 Sales Dataset\n"
     ]
    }
   ],
   "source": [
    "# Examine the number of unique keys (C1AccountNo + CXRecords) in each dataset\n",
    "# Create composite keys for each dataset by combining 'C1AccountNo' and 'CXRecords'\n",
    "fp2024['composite_key'] = fp2024['C1AccountNo'].astype(str) + '-' + fp2024['CXRecords'].astype(str)\n",
    "sp2024['composite_key'] = sp2024['C1AccountNo'].astype(str) + '-' + sp2024['CXRecords'].astype(str)\n",
    "\n",
    "unique_keys_fp2024 = fp2024['composite_key'].nunique()\n",
    "unique_keys_sp2024 = sp2024['composite_key'].nunique()\n",
    "\n",
    "print(f\"There are {unique_keys_fp2024} unique composite keys in the Goldmine 2024 Sales Dataset\")\n",
    "print(f\"There are {unique_keys_sp2024} unique composite keys in the Goldmine 2023 Q4 and some 2024 Sales Dataset\")"
   ]
  },
  {
   "cell_type": "code",
   "execution_count": 8,
   "metadata": {},
   "outputs": [
    {
     "name": "stdout",
     "output_type": "stream",
     "text": [
      "No mismatched keys found in Goldmine 2024 Sales Dataset that are missing in the other dataset.\n",
      "No mismatched keys found in Goldmine 2023 Q4 and some 2024 Sales Dataset that are missing in the other dataset.\n"
     ]
    }
   ],
   "source": [
    "# Determine whether there are mismatched keys in each dataset (whether one composition key exist in one dataset but not the other one)\n",
    "\n",
    "# Convert composite keys into sets for easy comparison\n",
    "keys_fp2024 = set(fp2024['composite_key'])\n",
    "keys_sp2024 = set(sp2024['composite_key'])\n",
    "\n",
    "# Find mismatched keys\n",
    "keys_in_fp_not_in_sp = keys_fp2024 - keys_sp2024  # Keys in fp2024 but not in sp2024\n",
    "keys_in_sp_not_in_fp = keys_sp2024 - keys_fp2024  # Keys in sp2024 but not in fp2024\n",
    "\n",
    "if keys_in_fp_not_in_sp:\n",
    "    print(f\"Keys in Goldmine 2024 Sales Dataset but not in Goldmine 2023 Q4 and some 2024 Sales Dataset:\")\n",
    "    print(keys_in_fp_not_in_sp)\n",
    "else:\n",
    "    print(\"No mismatched keys found in Goldmine 2024 Sales Dataset that are missing in the other dataset.\")\n",
    "\n",
    "if keys_in_sp_not_in_fp:\n",
    "    print(f\"Keys in Goldmine 2023 Q4 and some 2024 Sales Dataset but not in Goldmine 2024 Sales Dataset:\")\n",
    "    print(keys_in_sp_not_in_fp)\n",
    "else:\n",
    "    print(\"No mismatched keys found in Goldmine 2023 Q4 and some 2024 Sales Dataset that are missing in the other dataset.\")\n"
   ]
  },
  {
   "cell_type": "code",
   "execution_count": 9,
   "metadata": {},
   "outputs": [
    {
     "name": "stdout",
     "output_type": "stream",
     "text": [
      "Missing values in Goldmine 2024 Sales Dataset (fp2024):\n",
      "C1AccountNo      0\n",
      "CXRecords        0\n",
      "2024 Apr         0\n",
      "2024 Jun         0\n",
      "2024 Jul         0\n",
      "2024 Aug         0\n",
      "2024 Nov         0\n",
      "2024 Oct         0\n",
      "2024 May         0\n",
      "2024 Dec         0\n",
      "2024 Q1          0\n",
      "2024 Q2          0\n",
      "composite_key    0\n",
      "dtype: int64\n",
      "\n",
      "Missing values in Goldmine 2023 Q4 and some 2024 Sales Dataset (sp2024):\n",
      "C1AccountNo            0\n",
      "CXRecords              0\n",
      "2023 Q4                0\n",
      "PromoStandards    123671\n",
      "Company Store     124412\n",
      "2024 Sales             0\n",
      "2024 Jan               0\n",
      "2024 Feb               0\n",
      "2024 Mar               0\n",
      "2024 Sep               0\n",
      "composite_key          0\n",
      "dtype: int64\n"
     ]
    },
    {
     "data": {
      "text/plain": [
       "' print(\"\\nColumns with missing values in Goldmine 2024 Sales Dataset (fp2024):\")\\nprint(missing_values_fp2024[missing_values_fp2024 > 0])\\n\\nprint(\"\\nColumns with missing values in Goldmine 2023 Q4 and some 2024 Sales Dataset (sp2024):\")\\nprint(missing_values_sp2024[missing_values_sp2024 > 0]) '"
      ]
     },
     "execution_count": 9,
     "metadata": {},
     "output_type": "execute_result"
    }
   ],
   "source": [
    "# Examine the missing values inside the datasets\n",
    "\n",
    "# Check for missing values in the fp2024 dataset\n",
    "missing_values_fp2024 = fp2024.isnull().sum()\n",
    "\n",
    "# Check for missing values in the sp2024 dataset\n",
    "missing_values_sp2024 = sp2024.isnull().sum()\n",
    "\n",
    "# Print the number of missing values in each column for both datasets\n",
    "print(\"Missing values in Goldmine 2024 Sales Dataset (fp2024):\")\n",
    "print(missing_values_fp2024)\n",
    "\n",
    "print(\"\\nMissing values in Goldmine 2023 Q4 and some 2024 Sales Dataset (sp2024):\")\n",
    "print(missing_values_sp2024)\n",
    "\n",
    "\n",
    "\"\"\" print(\"\\nColumns with missing values in Goldmine 2024 Sales Dataset (fp2024):\")\n",
    "print(missing_values_fp2024[missing_values_fp2024 > 0])\n",
    "\n",
    "print(\"\\nColumns with missing values in Goldmine 2023 Q4 and some 2024 Sales Dataset (sp2024):\")\n",
    "print(missing_values_sp2024[missing_values_sp2024 > 0]) \"\"\"\n"
   ]
  },
  {
   "cell_type": "markdown",
   "metadata": {},
   "source": [
    "#### Initial Dataset Summaries\n",
    "* There are 124414 rows in each dataset\n",
    "* There are 124414 unique composite keys in the Goldmine 2024 Sales Dataset\n",
    "* There are 124414 unique composite keys in the Goldmine 2023 Q4 and some 2024 Sales Dataset\n",
    "* No mismatched keys found in the datasets\n",
    "* The only columns with missing vales is \"PromoStandards\" and \"Company Store\", which we will not include in the dataset in our current analysis as the percentage of missing vales is greater that 90%.\n"
   ]
  },
  {
   "cell_type": "markdown",
   "metadata": {},
   "source": [
    "### Remove columns and Merge Datasets for Year 2024\n",
    "\n",
    "* Remove the columns described above that has great percentage of missing values\n",
    "* Merge the two datasets into a dataframe that comtain the monthly sales for year 2024 "
   ]
  },
  {
   "cell_type": "code",
   "execution_count": 10,
   "metadata": {},
   "outputs": [
    {
     "name": "stdout",
     "output_type": "stream",
     "text": [
      "        C1AccountNo        CXRecords  2023 Q4  2024 Sales  2024 Jan  2024 Feb  \\\n",
      "0  A2061733055&RY+5  91470ER(#7ZS W<      0.0           0       0.0       0.0   \n",
      "1  A2061733055)S{G]  91470F3(E^Q/ W<      0.0           0       0.0       0.0   \n",
      "2  A2061733056$FX$L  91470G4$R)&< W<      0.0           0       0.0       0.0   \n",
      "3  A2061733057#*N-2  91470GQ%![I! W<      0.0       44328       0.0       0.0   \n",
      "4  A2061733058#^F7+  91470IF(9`JJ W<      0.0           0       0.0       0.0   \n",
      "\n",
      "   2024 Mar  2024 Sep                     composite_key  \n",
      "0       0.0         0  A2061733055&RY+5-91470ER(#7ZS W<  \n",
      "1       0.0         0  A2061733055)S{G]-91470F3(E^Q/ W<  \n",
      "2       0.0         0  A2061733056$FX$L-91470G4$R)&< W<  \n",
      "3       0.0         0  A2061733057#*N-2-91470GQ%![I! W<  \n",
      "4       0.0         0  A2061733058#^F7+-91470IF(9`JJ W<  \n"
     ]
    }
   ],
   "source": [
    "#Remove the two columns in sp2024 dataframe\n",
    "# Remove the columns 'PromoStandards' and 'Company Store'\n",
    "sp2024 = sp2024.drop(columns=['PromoStandards', 'Company Store'])\n",
    "\n",
    "# Print the result to check if the columns have been removed\n",
    "print(sp2024.head())\n"
   ]
  },
  {
   "cell_type": "code",
   "execution_count": 11,
   "metadata": {},
   "outputs": [
    {
     "name": "stdout",
     "output_type": "stream",
     "text": [
      "        C1AccountNo        CXRecords  2024 Apr  2024 Jun  2024 Jul  2024 Aug  \\\n",
      "0  A2061733054*,CNR  91470CV(.{82 W<       0.0       0.0       0.0       0.0   \n",
      "1  A2061733055&RY+5  91470ER(#7ZS W<       0.0       0.0       0.0       0.0   \n",
      "2  A2061733055&RY+5  9147BAL$5?9W W<       0.0       0.0       0.0       0.0   \n",
      "3  A2061733055(MK58  91470DV#294$ W<       0.0       0.0       0.0       0.0   \n",
      "4  A2061733055)S{G]  91470F3(E^Q/ W<       0.0       0.0       0.0       0.0   \n",
      "\n",
      "   2024 Nov  2024 Oct  2024 May  2024 Dec  2024 Q1  2024 Q2  \\\n",
      "0         0         0       0.0         0      0.0      0.0   \n",
      "1         0         0       0.0         0      0.0      0.0   \n",
      "2         0         0       0.0         0      0.0      0.0   \n",
      "3         0         0       0.0         0      0.0      0.0   \n",
      "4         0         0       0.0         0      0.0      0.0   \n",
      "\n",
      "                      composite_key  \n",
      "0  A2061733054*,CNR-91470CV(.{82 W<  \n",
      "1  A2061733055&RY+5-91470ER(#7ZS W<  \n",
      "2  A2061733055&RY+5-9147BAL$5?9W W<  \n",
      "3  A2061733055(MK58-91470DV#294$ W<  \n",
      "4  A2061733055)S{G]-91470F3(E^Q/ W<  \n"
     ]
    }
   ],
   "source": [
    "print(fp2024.head())"
   ]
  },
  {
   "cell_type": "code",
   "execution_count": 12,
   "metadata": {},
   "outputs": [
    {
     "name": "stdout",
     "output_type": "stream",
     "text": [
      "      C1AccountNo_x      CXRecords_x  2023 Q4  2024 Sales  2024 Jan  2024 Feb  \\\n",
      "0  A2061733055&RY+5  91470ER(#7ZS W<      0.0           0       0.0       0.0   \n",
      "1  A2061733055)S{G]  91470F3(E^Q/ W<      0.0           0       0.0       0.0   \n",
      "2  A2061733056$FX$L  91470G4$R)&< W<      0.0           0       0.0       0.0   \n",
      "3  A2061733057#*N-2  91470GQ%![I! W<      0.0       44328       0.0       0.0   \n",
      "4  A2061733058#^F7+  91470IF(9`JJ W<      0.0           0       0.0       0.0   \n",
      "\n",
      "   2024 Mar  2024 Sep                     composite_key     C1AccountNo_y  \\\n",
      "0       0.0         0  A2061733055&RY+5-91470ER(#7ZS W<  A2061733055&RY+5   \n",
      "1       0.0         0  A2061733055)S{G]-91470F3(E^Q/ W<  A2061733055)S{G]   \n",
      "2       0.0         0  A2061733056$FX$L-91470G4$R)&< W<  A2061733056$FX$L   \n",
      "3       0.0         0  A2061733057#*N-2-91470GQ%![I! W<  A2061733057#*N-2   \n",
      "4       0.0         0  A2061733058#^F7+-91470IF(9`JJ W<  A2061733058#^F7+   \n",
      "\n",
      "   ... 2024 Apr  2024 Jun  2024 Jul  2024 Aug  2024 Nov  2024 Oct  2024 May  \\\n",
      "0  ...      0.0       0.0       0.0       0.0         0         0       0.0   \n",
      "1  ...      0.0       0.0       0.0       0.0         0         0       0.0   \n",
      "2  ...      0.0       0.0       0.0       0.0         0         0       0.0   \n",
      "3  ...      0.0       0.0       0.0       0.0         0         0       0.0   \n",
      "4  ...      0.0       0.0       0.0       0.0         0         0       0.0   \n",
      "\n",
      "   2024 Dec  2024 Q1  2024 Q2  \n",
      "0         0      0.0      0.0  \n",
      "1         0      0.0      0.0  \n",
      "2         0      0.0      0.0  \n",
      "3         0      0.0      0.0  \n",
      "4         0      0.0      0.0  \n",
      "\n",
      "[5 rows x 21 columns]\n",
      "(124414, 21)\n"
     ]
    }
   ],
   "source": [
    "# Merge two dataframe by composite_key column\n",
    "sales2024 = pd.merge(sp2024, fp2024, on='composite_key', how='outer')\n",
    "\n",
    "\n",
    "print(sales2024.head())\n",
    "print(sales2024.shape)"
   ]
  },
  {
   "cell_type": "code",
   "execution_count": 13,
   "metadata": {},
   "outputs": [
    {
     "name": "stdout",
     "output_type": "stream",
     "text": [
      "      C1AccountNo_x      CXRecords_x  2024 Sales  2024 Jan  2024 Feb  \\\n",
      "0  A2061733055&RY+5  91470ER(#7ZS W<           0       0.0       0.0   \n",
      "1  A2061733055)S{G]  91470F3(E^Q/ W<           0       0.0       0.0   \n",
      "2  A2061733056$FX$L  91470G4$R)&< W<           0       0.0       0.0   \n",
      "3  A2061733057#*N-2  91470GQ%![I! W<       44328       0.0       0.0   \n",
      "4  A2061733058#^F7+  91470IF(9`JJ W<           0       0.0       0.0   \n",
      "\n",
      "   2024 Mar  2024 Sep                     composite_key  2024 Apr  2024 Jun  \\\n",
      "0       0.0         0  A2061733055&RY+5-91470ER(#7ZS W<       0.0       0.0   \n",
      "1       0.0         0  A2061733055)S{G]-91470F3(E^Q/ W<       0.0       0.0   \n",
      "2       0.0         0  A2061733056$FX$L-91470G4$R)&< W<       0.0       0.0   \n",
      "3       0.0         0  A2061733057#*N-2-91470GQ%![I! W<       0.0       0.0   \n",
      "4       0.0         0  A2061733058#^F7+-91470IF(9`JJ W<       0.0       0.0   \n",
      "\n",
      "   2024 Jul  2024 Aug  2024 Nov  2024 Oct  2024 May  2024 Dec  2024 Q1  \\\n",
      "0       0.0       0.0         0         0       0.0         0      0.0   \n",
      "1       0.0       0.0         0         0       0.0         0      0.0   \n",
      "2       0.0       0.0         0         0       0.0         0      0.0   \n",
      "3       0.0       0.0         0         0       0.0         0      0.0   \n",
      "4       0.0       0.0         0         0       0.0         0      0.0   \n",
      "\n",
      "   2024 Q2  \n",
      "0      0.0  \n",
      "1      0.0  \n",
      "2      0.0  \n",
      "3      0.0  \n",
      "4      0.0  \n",
      "(124414, 18)\n"
     ]
    }
   ],
   "source": [
    "sales2024clean = sales2024.drop(columns=['C1AccountNo_y', 'CXRecords_y', '2023 Q4'])\n",
    "print(sales2024clean.head())\n",
    "print(sales2024clean.shape)"
   ]
  },
  {
   "cell_type": "code",
   "execution_count": 14,
   "metadata": {},
   "outputs": [
    {
     "name": "stdout",
     "output_type": "stream",
     "text": [
      "        C1AccountNo        CXRecords                     composite_key  \\\n",
      "0  A2061733055&RY+5  91470ER(#7ZS W<  A2061733055&RY+5-91470ER(#7ZS W<   \n",
      "1  A2061733055)S{G]  91470F3(E^Q/ W<  A2061733055)S{G]-91470F3(E^Q/ W<   \n",
      "2  A2061733056$FX$L  91470G4$R)&< W<  A2061733056$FX$L-91470G4$R)&< W<   \n",
      "3  A2061733057#*N-2  91470GQ%![I! W<  A2061733057#*N-2-91470GQ%![I! W<   \n",
      "4  A2061733058#^F7+  91470IF(9`JJ W<  A2061733058#^F7+-91470IF(9`JJ W<   \n",
      "\n",
      "   2024 Jan  2024 Feb  2024 Mar  2024 Apr  2024 May  2024 Jun  2024 Jul  \\\n",
      "0       0.0       0.0       0.0       0.0       0.0       0.0       0.0   \n",
      "1       0.0       0.0       0.0       0.0       0.0       0.0       0.0   \n",
      "2       0.0       0.0       0.0       0.0       0.0       0.0       0.0   \n",
      "3       0.0       0.0       0.0       0.0       0.0       0.0       0.0   \n",
      "4       0.0       0.0       0.0       0.0       0.0       0.0       0.0   \n",
      "\n",
      "   2024 Aug  2024 Sep  2024 Oct  2024 Nov  2024 Dec  2024 Q1  2024 Q2  \\\n",
      "0       0.0         0         0         0         0      0.0      0.0   \n",
      "1       0.0         0         0         0         0      0.0      0.0   \n",
      "2       0.0         0         0         0         0      0.0      0.0   \n",
      "3       0.0         0         0         0         0      0.0      0.0   \n",
      "4       0.0         0         0         0         0      0.0      0.0   \n",
      "\n",
      "   2024 Sales  \n",
      "0           0  \n",
      "1           0  \n",
      "2           0  \n",
      "3       44328  \n",
      "4           0  \n",
      "(124414, 18)\n"
     ]
    }
   ],
   "source": [
    "#Rearrange the columns and rename column names\n",
    "\n",
    "desired_column_order = [\n",
    "    'C1AccountNo_x', 'CXRecords_x', 'composite_key', \n",
    "    '2024 Jan', '2024 Feb', '2024 Mar', '2024 Apr', '2024 May', \n",
    "    '2024 Jun', '2024 Jul', '2024 Aug', '2024 Sep', '2024 Oct', \n",
    "    '2024 Nov', '2024 Dec', '2024 Q1', '2024 Q2', '2024 Sales'\n",
    "]\n",
    "\n",
    "sales2024clean = sales2024clean[desired_column_order]\n",
    "\n",
    "sales2024clean = sales2024clean.rename(columns={\n",
    "    'C1AccountNo_x': 'C1AccountNo',\n",
    "    'CXRecords_x': 'CXRecords'\n",
    "})\n",
    "\n",
    "print(sales2024clean.head())\n",
    "print(sales2024clean.shape)\n"
   ]
  },
  {
   "cell_type": "markdown",
   "metadata": {},
   "source": [
    "## Data Cleaning and Data Question for Year 2024\n",
    "\n",
    "* Calculate the accurate 2024 Q1 and 2024 Q2 values based on monthly sales\n",
    "* Determine whether the 2024 Sales (column)'s value is accurate\n",
    "* record the columns with problem for questions"
   ]
  },
  {
   "cell_type": "code",
   "execution_count": 16,
   "metadata": {},
   "outputs": [
    {
     "name": "stdout",
     "output_type": "stream",
     "text": [
      "6699\n",
      "         C1AccountNo        CXRecords                     composite_key  \\\n",
      "5   A2061733058)U90^  91470I8%.+ML W<  A2061733058)U90^-91470I8%.+ML W<   \n",
      "6   A2061733058)U90^  KIS9VFG)./*97_*  A2061733058)U90^-KIS9VFG)./*97_*   \n",
      "16  A2061733063(W4CH  91470PA$4!2O W<  A2061733063(W4CH-91470PA$4!2O W<   \n",
      "37  A2061733076%D/F+  9147174(RL-R W<  A2061733076%D/F+-9147174(RL-R W<   \n",
      "48  A2061733084%\\]$8  91471IO&D/B% W<  A2061733084%\\]$8-91471IO&D/B% W<   \n",
      "\n",
      "    2024 Jan  2024 Feb  2024 Mar  2024 Apr  2024 May  2024 Jun  2024 Jul  \\\n",
      "5     168.25   1677.63      0.00    416.92    472.24    847.03    180.19   \n",
      "6     168.25   1677.63      0.00    416.92    472.24    847.03    180.19   \n",
      "16      0.00      0.00      0.00   1389.85      0.00      0.00      0.00   \n",
      "37      0.00      0.00    599.97      0.00      0.00      0.00      0.00   \n",
      "48      0.00      0.00   1512.00    201.03      0.00   1134.73     80.37   \n",
      "\n",
      "    2024 Aug  2024 Sep  2024 Oct  2024 Nov  2024 Dec  2024 Q1  2024 Q2  \\\n",
      "5        0.0         0         0         0         0  1845.88  1736.19   \n",
      "6        0.0         0         0         0         0  1845.88  1736.19   \n",
      "16       0.0         0         0         0         0     0.00  1389.85   \n",
      "37       0.0         0         0         0         0   599.97     0.00   \n",
      "48       0.0         0         0         0         0  1512.00  1335.76   \n",
      "\n",
      "    2024 Sales  \n",
      "5         3762  \n",
      "6         3762  \n",
      "16        1390  \n",
      "37         600  \n",
      "48        2928  \n"
     ]
    }
   ],
   "source": [
    "# Determine wheher there are values diffrent than 0 in the Q1 and Q2 column\n",
    "#If there are values that are differeht than0, the rows are taken out for further determination\n",
    "# Filter rows where either '2024 Q1' or '2024 Q2' have values different from 0\n",
    "non_zero_Q1_Q2 = sales2024clean[(sales2024clean['2024 Q1'] != 0) | (sales2024clean['2024 Q2'] != 0)]\n",
    "\n",
    "print(len(non_zero_Q1_Q2))\n",
    "print(non_zero_Q1_Q2.head())"
   ]
  },
  {
   "cell_type": "code",
   "execution_count": 20,
   "metadata": {},
   "outputs": [
    {
     "name": "stdout",
     "output_type": "stream",
     "text": [
      "Number of rows where Q1 or Q2 values do not match the sum of the respective months:\n",
      "3\n"
     ]
    },
    {
     "name": "stderr",
     "output_type": "stream",
     "text": [
      "C:\\Users\\Michael\\AppData\\Local\\Temp\\ipykernel_68184\\388178124.py:5: SettingWithCopyWarning: \n",
      "A value is trying to be set on a copy of a slice from a DataFrame.\n",
      "Try using .loc[row_indexer,col_indexer] = value instead\n",
      "\n",
      "See the caveats in the documentation: https://pandas.pydata.org/pandas-docs/stable/user_guide/indexing.html#returning-a-view-versus-a-copy\n",
      "  non_zero_Q1_Q2['Q1_check'] = non_zero_Q1_Q2['2024 Jan'] + non_zero_Q1_Q2['2024 Feb'] + non_zero_Q1_Q2['2024 Mar']\n",
      "C:\\Users\\Michael\\AppData\\Local\\Temp\\ipykernel_68184\\388178124.py:6: SettingWithCopyWarning: \n",
      "A value is trying to be set on a copy of a slice from a DataFrame.\n",
      "Try using .loc[row_indexer,col_indexer] = value instead\n",
      "\n",
      "See the caveats in the documentation: https://pandas.pydata.org/pandas-docs/stable/user_guide/indexing.html#returning-a-view-versus-a-copy\n",
      "  non_zero_Q1_Q2['Q1_matches'] = np.isclose(non_zero_Q1_Q2['Q1_check'], non_zero_Q1_Q2['2024 Q1'], atol=1e-2)\n",
      "C:\\Users\\Michael\\AppData\\Local\\Temp\\ipykernel_68184\\388178124.py:9: SettingWithCopyWarning: \n",
      "A value is trying to be set on a copy of a slice from a DataFrame.\n",
      "Try using .loc[row_indexer,col_indexer] = value instead\n",
      "\n",
      "See the caveats in the documentation: https://pandas.pydata.org/pandas-docs/stable/user_guide/indexing.html#returning-a-view-versus-a-copy\n",
      "  non_zero_Q1_Q2['Q2_check'] = non_zero_Q1_Q2['2024 Apr'] + non_zero_Q1_Q2['2024 May'] + non_zero_Q1_Q2['2024 Jun']\n",
      "C:\\Users\\Michael\\AppData\\Local\\Temp\\ipykernel_68184\\388178124.py:10: SettingWithCopyWarning: \n",
      "A value is trying to be set on a copy of a slice from a DataFrame.\n",
      "Try using .loc[row_indexer,col_indexer] = value instead\n",
      "\n",
      "See the caveats in the documentation: https://pandas.pydata.org/pandas-docs/stable/user_guide/indexing.html#returning-a-view-versus-a-copy\n",
      "  non_zero_Q1_Q2['Q2_matches'] = np.isclose(non_zero_Q1_Q2['Q2_check'], non_zero_Q1_Q2['2024 Q2'], atol=1e-2)\n"
     ]
    }
   ],
   "source": [
    "#Determine whether the values in Q1 and Q2 adds up based on monthly sales\n",
    "import numpy as np\n",
    "\n",
    "# Calculate the sum of January, February, and March, and compare it to Q1 using np.isclose\n",
    "non_zero_Q1_Q2['Q1_check'] = non_zero_Q1_Q2['2024 Jan'] + non_zero_Q1_Q2['2024 Feb'] + non_zero_Q1_Q2['2024 Mar']\n",
    "non_zero_Q1_Q2['Q1_matches'] = np.isclose(non_zero_Q1_Q2['Q1_check'], non_zero_Q1_Q2['2024 Q1'], atol=1e-2)\n",
    "\n",
    "# Calculate the sum of April, May, and June, and compare it to Q2 using np.isclose\n",
    "non_zero_Q1_Q2['Q2_check'] = non_zero_Q1_Q2['2024 Apr'] + non_zero_Q1_Q2['2024 May'] + non_zero_Q1_Q2['2024 Jun']\n",
    "non_zero_Q1_Q2['Q2_matches'] = np.isclose(non_zero_Q1_Q2['Q2_check'], non_zero_Q1_Q2['2024 Q2'], atol=1e-2)\n",
    "\n",
    "\n",
    "mismatches = non_zero_Q1_Q2[(non_zero_Q1_Q2['Q1_matches'] == False) | (non_zero_Q1_Q2['Q2_matches'] == False)]\n",
    "\n",
    "print(\"Number of rows where Q1 or Q2 values do not match the sum of the respective months:\")\n",
    "print(len(mismatches))\n"
   ]
  },
  {
   "cell_type": "code",
   "execution_count": 21,
   "metadata": {},
   "outputs": [
    {
     "name": "stdout",
     "output_type": "stream",
     "text": [
      "                 C1AccountNo        CXRecords  \\\n",
      "123916  C4013082970%[>JQTLui  OPCW7GN(PR&@>NG   \n",
      "123917  C4013084154%[>JQTAle  OPCXH4P%&=*=>NG   \n",
      "123918  C4013084249%[>JQTJen  OPCXKTQ*?J_X>NG   \n",
      "\n",
      "                               composite_key  2024 Jan  2024 Feb  2024 Mar  \\\n",
      "123916  C4013082970%[>JQTLui-OPCW7GN(PR&@>NG  10075.82       0.0       0.0   \n",
      "123917  C4013084154%[>JQTAle-OPCXH4P%&=*=>NG  10075.82       0.0       0.0   \n",
      "123918  C4013084249%[>JQTJen-OPCXKTQ*?J_X>NG  10075.82       0.0       0.0   \n",
      "\n",
      "        2024 Apr  2024 May  2024 Jun  2024 Jul  ...  2024 Oct  2024 Nov  \\\n",
      "123916       0.0       0.0       0.0       0.0  ...         0         0   \n",
      "123917       0.0       0.0       0.0       0.0  ...         0         0   \n",
      "123918       0.0       0.0       0.0       0.0  ...         0         0   \n",
      "\n",
      "        2024 Dec   2024 Q1  2024 Q2  2024 Sales  Q1_check  Q1_matches  \\\n",
      "123916         0  10005.62      0.0       34593  10075.82       False   \n",
      "123917         0  10005.62      0.0       34593  10075.82       False   \n",
      "123918         0  10005.62      0.0       34593  10075.82       False   \n",
      "\n",
      "        Q2_check  Q2_matches  \n",
      "123916       0.0        True  \n",
      "123917       0.0        True  \n",
      "123918       0.0        True  \n",
      "\n",
      "[3 rows x 22 columns]\n"
     ]
    }
   ],
   "source": [
    "print(mismatches.head())"
   ]
  },
  {
   "cell_type": "code",
   "execution_count": 22,
   "metadata": {},
   "outputs": [
    {
     "name": "stdout",
     "output_type": "stream",
     "text": [
      "Number of rows where 2024 Sales does not match the sum of monthly sales:\n",
      "6248\n",
      "                 C1AccountNo        CXRecords  \\\n",
      "5           A2061733058)U90^  91470I8%.+ML W<   \n",
      "6           A2061733058)U90^  KIS9VFG)./*97_*   \n",
      "16          A2061733063(W4CH  91470PA$4!2O W<   \n",
      "37          A2061733076%D/F+  9147174(RL-R W<   \n",
      "48          A2061733084%\\]$8  91471IO&D/B% W<   \n",
      "...                      ...              ...   \n",
      "124388  C4072658234%<2\\WCJoe  P21Z6GO);JU8^!P   \n",
      "124396  C4080150053)I5_=0Bra  P2H5YV6*`U)82I>   \n",
      "124403  C4080734900&[=Y0,Mel  P2W5A9A$*%BMCB\\   \n",
      "124411  C4081262706!_OS:QSus  P39U1OP#_?B2Q(?   \n",
      "124412  C4081332434%>9ECTAmy  P3BI74J*K[-)2I>   \n",
      "\n",
      "                               composite_key  2024 Jan  2024 Feb  2024 Mar  \\\n",
      "5           A2061733058)U90^-91470I8%.+ML W<    168.25   1677.63      0.00   \n",
      "6           A2061733058)U90^-KIS9VFG)./*97_*    168.25   1677.63      0.00   \n",
      "16          A2061733063(W4CH-91470PA$4!2O W<      0.00      0.00      0.00   \n",
      "37          A2061733076%D/F+-9147174(RL-R W<      0.00      0.00    599.97   \n",
      "48          A2061733084%\\]$8-91471IO&D/B% W<      0.00      0.00   1512.00   \n",
      "...                                      ...       ...       ...       ...   \n",
      "124388  C4072658234%<2\\WCJoe-P21Z6GO);JU8^!P    410.33      0.00      0.00   \n",
      "124396  C4080150053)I5_=0Bra-P2H5YV6*`U)82I>      0.00      0.00   7110.60   \n",
      "124403  C4080734900&[=Y0,Mel-P2W5A9A$*%BMCB\\      0.00   6132.54   2267.10   \n",
      "124411  C4081262706!_OS:QSus-P39U1OP#_?B2Q(?      0.00    465.60    981.22   \n",
      "124412  C4081332434%>9ECTAmy-P3BI74J*K[-)2I>      0.00      0.00   1197.78   \n",
      "\n",
      "        2024 Apr  2024 May  2024 Jun  2024 Jul  ...  2024 Dec  2024 Q1  \\\n",
      "5         416.92    472.24    847.03    180.19  ...         0  1845.88   \n",
      "6         416.92    472.24    847.03    180.19  ...         0  1845.88   \n",
      "16       1389.85      0.00      0.00      0.00  ...         0     0.00   \n",
      "37          0.00      0.00      0.00      0.00  ...         0   599.97   \n",
      "48        201.03      0.00   1134.73     80.37  ...         0  1512.00   \n",
      "...          ...       ...       ...       ...  ...       ...      ...   \n",
      "124388      0.00      0.00      0.00      0.00  ...         0   410.33   \n",
      "124396     36.00    174.92  10371.08      0.00  ...         0  7110.60   \n",
      "124403    133.56      0.00      0.00      0.00  ...         0  8399.64   \n",
      "124411    329.82    565.32    161.28    171.00  ...         0  1446.82   \n",
      "124412      0.00      0.00      0.00    206.25  ...         0  1197.78   \n",
      "\n",
      "         2024 Q2  2024 Sales  Q1_check  Q1_matches  Q2_check  Q2_matches  \\\n",
      "5        1736.19        3762   1845.88        True   1736.19        True   \n",
      "6        1736.19        3762   1845.88        True   1736.19        True   \n",
      "16       1389.85        1390      0.00        True   1389.85        True   \n",
      "37          0.00         600    599.97        True      0.00        True   \n",
      "48       1335.76        2928   1512.00        True   1335.76        True   \n",
      "...          ...         ...       ...         ...       ...         ...   \n",
      "124388      0.00         410    410.33        True      0.00        True   \n",
      "124396  10582.00       17693   7110.60        True  10582.00        True   \n",
      "124403    133.56        8533   8399.64        True    133.56        True   \n",
      "124411   1056.42        2674   1446.82        True   1056.42        True   \n",
      "124412      0.00        1555   1197.78        True      0.00        True   \n",
      "\n",
      "        monthly_sales_sum  sales_matches  \n",
      "5                 3762.26          False  \n",
      "6                 3762.26          False  \n",
      "16                1389.85          False  \n",
      "37                 599.97          False  \n",
      "48                2928.13          False  \n",
      "...                   ...            ...  \n",
      "124388             410.33          False  \n",
      "124396           17692.60          False  \n",
      "124403            8533.20          False  \n",
      "124411            2674.24          False  \n",
      "124412            1555.23          False  \n",
      "\n",
      "[6248 rows x 24 columns]\n"
     ]
    },
    {
     "name": "stderr",
     "output_type": "stream",
     "text": [
      "C:\\Users\\Michael\\AppData\\Local\\Temp\\ipykernel_68184\\2352685137.py:4: SettingWithCopyWarning: \n",
      "A value is trying to be set on a copy of a slice from a DataFrame.\n",
      "Try using .loc[row_indexer,col_indexer] = value instead\n",
      "\n",
      "See the caveats in the documentation: https://pandas.pydata.org/pandas-docs/stable/user_guide/indexing.html#returning-a-view-versus-a-copy\n",
      "  non_zero_Q1_Q2['monthly_sales_sum'] = (\n",
      "C:\\Users\\Michael\\AppData\\Local\\Temp\\ipykernel_68184\\2352685137.py:12: SettingWithCopyWarning: \n",
      "A value is trying to be set on a copy of a slice from a DataFrame.\n",
      "Try using .loc[row_indexer,col_indexer] = value instead\n",
      "\n",
      "See the caveats in the documentation: https://pandas.pydata.org/pandas-docs/stable/user_guide/indexing.html#returning-a-view-versus-a-copy\n",
      "  non_zero_Q1_Q2['sales_matches'] = np.isclose(non_zero_Q1_Q2['monthly_sales_sum'], non_zero_Q1_Q2['2024 Sales'], atol=1e-2)\n"
     ]
    }
   ],
   "source": [
    "# Determine the vales in 2024 Sales column adds up based on 2024 monthly sales\n",
    "\n",
    "# Calculate the sum of all monthly sales (Jan to Dec) and compare it to the '2024 Sales' column\n",
    "non_zero_Q1_Q2['monthly_sales_sum'] = (\n",
    "    non_zero_Q1_Q2['2024 Jan'] + non_zero_Q1_Q2['2024 Feb'] + non_zero_Q1_Q2['2024 Mar'] +\n",
    "    non_zero_Q1_Q2['2024 Apr'] + non_zero_Q1_Q2['2024 May'] + non_zero_Q1_Q2['2024 Jun'] +\n",
    "    non_zero_Q1_Q2['2024 Jul'] + non_zero_Q1_Q2['2024 Aug'] + non_zero_Q1_Q2['2024 Sep'] +\n",
    "    non_zero_Q1_Q2['2024 Oct'] + non_zero_Q1_Q2['2024 Nov'] + non_zero_Q1_Q2['2024 Dec']\n",
    ")\n",
    "\n",
    "# Compare the sum with the '2024 Sales' column using np.isclose\n",
    "non_zero_Q1_Q2['sales_matches'] = np.isclose(non_zero_Q1_Q2['monthly_sales_sum'], non_zero_Q1_Q2['2024 Sales'], atol=1e-2)\n",
    "\n",
    "\n",
    "sales_mismatches = non_zero_Q1_Q2[non_zero_Q1_Q2['sales_matches'] == False]\n",
    "\n",
    "\n",
    "print(\"Number of rows where 2024 Sales does not match the sum of monthly sales:\")\n",
    "print(len(sales_mismatches))"
   ]
  },
  {
   "cell_type": "code",
   "execution_count": 29,
   "metadata": {},
   "outputs": [
    {
     "name": "stdout",
     "output_type": "stream",
     "text": [
      "C1AccountNo                          A2061733063(W4CH\n",
      "CXRecords                             91470PA$4!2O W<\n",
      "composite_key        A2061733063(W4CH-91470PA$4!2O W<\n",
      "2024 Jan                                          0.0\n",
      "2024 Feb                                          0.0\n",
      "2024 Mar                                          0.0\n",
      "2024 Apr                                      1389.85\n",
      "2024 May                                          0.0\n",
      "2024 Jun                                          0.0\n",
      "2024 Jul                                          0.0\n",
      "2024 Aug                                          0.0\n",
      "2024 Sep                                            0\n",
      "2024 Oct                                            0\n",
      "2024 Nov                                            0\n",
      "2024 Dec                                            0\n",
      "2024 Q1                                           0.0\n",
      "2024 Q2                                       1389.85\n",
      "2024 Sales                                       1390\n",
      "Q1_check                                          0.0\n",
      "Q1_matches                                       True\n",
      "Q2_check                                      1389.85\n",
      "Q2_matches                                       True\n",
      "monthly_sales_sum                             1389.85\n",
      "sales_matches                                   False\n",
      "Name: 16, dtype: object\n"
     ]
    }
   ],
   "source": [
    "print(sales_mismatches.iloc[2])"
   ]
  },
  {
   "cell_type": "code",
   "execution_count": 36,
   "metadata": {},
   "outputs": [
    {
     "name": "stdout",
     "output_type": "stream",
     "text": [
      "Number of rows where 2024 Sales does not match the sum of monthly sales (after converting sum to integers):\n",
      "3259\n",
      "                 C1AccountNo        CXRecords  \\\n",
      "118         A2061733082#E72Z  91471G5#H0,D W<   \n",
      "215         A2061733098*%WL^  A7PE876*S%>HTK@   \n",
      "269         A2061733094(FC P  91471WP&*GZ& W<   \n",
      "414         A2061733124(-WN:  914732A(.)WO W<   \n",
      "471         A2061733130$A#LR  91473AQ%EL`P W<   \n",
      "...                      ...              ...   \n",
      "124334  C4062141084!{D5<;Ama  OZJG26M$*(Q>EU7   \n",
      "124354  C4070156654#^@9TZSte  P09MO71(IRP_CB\\   \n",
      "124368  C4071149064!R&F/TKim  P0Z4GP7$)].,CB\\   \n",
      "124374  C4071840451)Z]2&TGar  P1GVDR5#@\\O1@N?   \n",
      "124386  C4072654029)+QS*&Isa  P21UO9J)-(#C2I>   \n",
      "\n",
      "                               composite_key  2024 Jan  2024 Feb  2024 Mar  \\\n",
      "118         A2061733082#E72Z-91471G5#H0,D W<      0.00   6970.35   2051.40   \n",
      "215         A2061733098*%WL^-A7PE876*S%>HTK@   2043.88      0.00    391.20   \n",
      "269         A2061733094(FC P-91471WP&*GZ& W<    269.71    251.13    193.13   \n",
      "414         A2061733124(-WN:-914732A(.)WO W<    210.20      0.00      0.00   \n",
      "471         A2061733130$A#LR-91473AQ%EL`P W<      0.00   3256.38      0.00   \n",
      "...                                      ...       ...       ...       ...   \n",
      "124334  C4062141084!{D5<;Ama-OZJG26M$*(Q>EU7      0.00      0.00      0.00   \n",
      "124354  C4070156654#^@9TZSte-P09MO71(IRP_CB\\    168.25   1677.63      0.00   \n",
      "124368  C4071149064!R&F/TKim-P0Z4GP7$)].,CB\\    207.56  31312.07  18383.80   \n",
      "124374  C4071840451)Z]2&TGar-P1GVDR5#@\\O1@N?    161.16     30.83    614.44   \n",
      "124386  C4072654029)+QS*&Isa-P21UO9J)-(#C2I>      0.00   1517.09      0.00   \n",
      "\n",
      "        2024 Apr  2024 May  2024 Jun  2024 Jul  ...  2024 Dec   2024 Q1  \\\n",
      "118      4253.35      0.00    143.30   8749.46  ...         0   9021.75   \n",
      "215      5624.70      0.00    158.58    816.60  ...         0   2435.08   \n",
      "269       171.41    129.04    167.01    303.12  ...         0    713.97   \n",
      "414         0.00      0.00      0.00      0.00  ...         0    210.20   \n",
      "471       780.42      0.00      0.00      0.00  ...         0   3256.38   \n",
      "...          ...       ...       ...       ...  ...       ...       ...   \n",
      "124334      0.00      0.00   1947.03      0.00  ...         0      0.00   \n",
      "124354    416.92    472.24    847.03      0.00  ...         0   1845.88   \n",
      "124368     79.20    675.75   5145.89      0.00  ...         0  49903.43   \n",
      "124374    563.37    580.19    374.30      0.00  ...         0    806.43   \n",
      "124386    182.74      0.00      0.00      0.00  ...         0   1517.09   \n",
      "\n",
      "        2024 Q2  2024 Sales  Q1_check  Q1_matches  Q2_check  Q2_matches  \\\n",
      "118     4396.65       40761   9021.75        True   4396.65        True   \n",
      "215     5783.28       17391   2435.08        True   5783.28        True   \n",
      "269      467.46        3683    713.97        True    467.46        True   \n",
      "414        0.00        2273    210.20        True      0.00        True   \n",
      "471      780.42        7109   3256.38        True    780.42        True   \n",
      "...         ...         ...       ...         ...       ...         ...   \n",
      "124334  1947.03        5363      0.00        True   1947.03        True   \n",
      "124354  1736.19        3762   1845.88        True   1736.19        True   \n",
      "124368  5900.84       54279  49903.43        True   5900.84        True   \n",
      "124374  1517.86        2470    806.43        True   1517.86        True   \n",
      "124386   182.74        1896   1517.09        True    182.74        True   \n",
      "\n",
      "        monthly_sales_sum  sales_matches  \n",
      "118                 22168          False  \n",
      "215                  9195          False  \n",
      "269                  1485          False  \n",
      "414                   210          False  \n",
      "471                  4037          False  \n",
      "...                   ...            ...  \n",
      "124334               1947          False  \n",
      "124354               3582          False  \n",
      "124368              55804          False  \n",
      "124374               2324          False  \n",
      "124386               1700          False  \n",
      "\n",
      "[3259 rows x 24 columns]\n"
     ]
    },
    {
     "name": "stderr",
     "output_type": "stream",
     "text": [
      "C:\\Users\\Michael\\AppData\\Local\\Temp\\ipykernel_68184\\3397149230.py:4: SettingWithCopyWarning: \n",
      "A value is trying to be set on a copy of a slice from a DataFrame.\n",
      "Try using .loc[row_indexer,col_indexer] = value instead\n",
      "\n",
      "See the caveats in the documentation: https://pandas.pydata.org/pandas-docs/stable/user_guide/indexing.html#returning-a-view-versus-a-copy\n",
      "  non_zero_Q1_Q2['2024 Sales'] = non_zero_Q1_Q2['2024 Sales'].astype(int)\n",
      "C:\\Users\\Michael\\AppData\\Local\\Temp\\ipykernel_68184\\3397149230.py:6: SettingWithCopyWarning: \n",
      "A value is trying to be set on a copy of a slice from a DataFrame.\n",
      "Try using .loc[row_indexer,col_indexer] = value instead\n",
      "\n",
      "See the caveats in the documentation: https://pandas.pydata.org/pandas-docs/stable/user_guide/indexing.html#returning-a-view-versus-a-copy\n",
      "  non_zero_Q1_Q2['monthly_sales_sum'] = (\n",
      "C:\\Users\\Michael\\AppData\\Local\\Temp\\ipykernel_68184\\3397149230.py:14: SettingWithCopyWarning: \n",
      "A value is trying to be set on a copy of a slice from a DataFrame.\n",
      "Try using .loc[row_indexer,col_indexer] = value instead\n",
      "\n",
      "See the caveats in the documentation: https://pandas.pydata.org/pandas-docs/stable/user_guide/indexing.html#returning-a-view-versus-a-copy\n",
      "  non_zero_Q1_Q2['sales_matches'] = non_zero_Q1_Q2['monthly_sales_sum'] == non_zero_Q1_Q2['2024 Sales']\n"
     ]
    }
   ],
   "source": [
    "# redo the value check because the 2024 Sales is recorded in integer not float\n",
    "\n",
    "# Convert the '2024 Sales' column back to integer\n",
    "non_zero_Q1_Q2['2024 Sales'] = non_zero_Q1_Q2['2024 Sales'].astype(int)\n",
    "\n",
    "non_zero_Q1_Q2['monthly_sales_sum'] = (\n",
    "    non_zero_Q1_Q2['2024 Jan'] + non_zero_Q1_Q2['2024 Feb'] + non_zero_Q1_Q2['2024 Mar'] +\n",
    "    non_zero_Q1_Q2['2024 Apr'] + non_zero_Q1_Q2['2024 May'] + non_zero_Q1_Q2['2024 Jun'] +\n",
    "    non_zero_Q1_Q2['2024 Jul'] + non_zero_Q1_Q2['2024 Aug'] + non_zero_Q1_Q2['2024 Sep'] +\n",
    "    non_zero_Q1_Q2['2024 Oct'] + non_zero_Q1_Q2['2024 Nov'] + non_zero_Q1_Q2['2024 Dec']\n",
    ").round().astype(int)  # Round the sum and then convert to integer\n",
    "\n",
    "# Compare the integer sum with the '2024 Sales' column\n",
    "non_zero_Q1_Q2['sales_matches'] = non_zero_Q1_Q2['monthly_sales_sum'] == non_zero_Q1_Q2['2024 Sales']\n",
    "\n",
    "# Print rows where the '2024 Sales' does not match the sum of the monthly sales\n",
    "sales_mismatches = non_zero_Q1_Q2[non_zero_Q1_Q2['sales_matches'] == False]\n",
    "\n",
    "# Print the result\n",
    "print(\"Number of rows where 2024 Sales does not match the sum of monthly sales (after converting sum to integers):\")\n",
    "print(len(sales_mismatches))\n",
    "print(sales_mismatches)\n",
    "\n"
   ]
  },
  {
   "cell_type": "code",
   "execution_count": 38,
   "metadata": {},
   "outputs": [
    {
     "data": {
      "text/plain": [
       "C1AccountNo                          A2061733082#E72Z\n",
       "CXRecords                             91471G5#H0,D W<\n",
       "composite_key        A2061733082#E72Z-91471G5#H0,D W<\n",
       "2024 Jan                                          0.0\n",
       "2024 Feb                                      6970.35\n",
       "2024 Mar                                       2051.4\n",
       "2024 Apr                                      4253.35\n",
       "2024 May                                          0.0\n",
       "2024 Jun                                        143.3\n",
       "2024 Jul                                      8749.46\n",
       "2024 Aug                                          0.0\n",
       "2024 Sep                                            0\n",
       "2024 Oct                                            0\n",
       "2024 Nov                                            0\n",
       "2024 Dec                                            0\n",
       "2024 Q1                                       9021.75\n",
       "2024 Q2                                       4396.65\n",
       "2024 Sales                                      40761\n",
       "Q1_check                                      9021.75\n",
       "Q1_matches                                       True\n",
       "Q2_check                                      4396.65\n",
       "Q2_matches                                       True\n",
       "monthly_sales_sum                               22168\n",
       "sales_matches                                   False\n",
       "Name: 118, dtype: object"
      ]
     },
     "execution_count": 38,
     "metadata": {},
     "output_type": "execute_result"
    }
   ],
   "source": [
    "sales_mismatches.iloc[0]"
   ]
  },
  {
   "cell_type": "code",
   "execution_count": 39,
   "metadata": {},
   "outputs": [
    {
     "name": "stdout",
     "output_type": "stream",
     "text": [
      "(124414, 18)\n",
      "(3, 22)\n",
      "(3259, 24)\n"
     ]
    }
   ],
   "source": [
    "print(sales2024clean.shape)\n",
    "print(mismatches.shape)\n",
    "print(sales_mismatches.shape)"
   ]
  },
  {
   "cell_type": "markdown",
   "metadata": {},
   "source": [
    "### 2024 Dataset Questions\n",
    "\n",
    "* There are three rows where either the Q1 or Q2 sum does not match the monthly sum\n",
    "- Example row: 123916  C4013082970%[>JQTLui  OPCW7GN(PR&@>NG\n",
    "* There are 3259 rows where the 2024 Sales does not match the monthly sum\n",
    "- Example row: C1AccountNo                          A2061733082#E72Z\n",
    "CXRecords                             91471G5#H0,D W<\n"
   ]
  },
  {
   "cell_type": "markdown",
   "metadata": {},
   "source": [
    "## Merge Files for 2023 Sales Data\n",
    "* Through matching composition key (C1AccountNp & CXRecords)\n",
    "* Keep rows with 0 sales for consistency"
   ]
  },
  {
   "cell_type": "code",
   "execution_count": 40,
   "metadata": {},
   "outputs": [
    {
     "name": "stdout",
     "output_type": "stream",
     "text": [
      "        C1AccountNo        CXRecords Trophy Retailer 3  Trophy Retailer 4  \\\n",
      "0  A2061733054*,CNR  91470CV(.{82 W<        1989-01-01                NaN   \n",
      "1  A2061733055$SC)`  91470EM$BC>5 W<        1989-01-01                NaN   \n",
      "2  A2061733055&RY+5  91470ER(#7ZS W<        1989-01-01                NaN   \n",
      "3  A2061733055&RY+5  9147BAL$5?9W W<        1989-01-01                NaN   \n",
      "4  A2061733055&RY+5  9147BKI(/*KF W<        1989-01-01                NaN   \n",
      "\n",
      "   Trophy Retailer 5  Trophy Retailer 6  Trophy Retailer 7  Trophy Retailer 8  \\\n",
      "0                NaN                NaN                NaN                NaN   \n",
      "1                NaN                NaN                NaN                NaN   \n",
      "2                NaN                NaN                NaN                NaN   \n",
      "3                NaN                NaN                NaN                NaN   \n",
      "4                NaN                NaN                NaN                NaN   \n",
      "\n",
      "   Trophy Retailer 9 Promo Distributor 1  ... 2023 Jun 2023 Jul 2023 Aug  \\\n",
      "0                NaN                 NaN  ...      0.0      0.0      0.0   \n",
      "1                NaN                 NaN  ...      0.0      0.0      0.0   \n",
      "2                NaN                 NaN  ...      0.0      0.0      0.0   \n",
      "3                NaN                 NaN  ...      0.0      0.0      0.0   \n",
      "4                NaN                 NaN  ...      0.0      0.0      0.0   \n",
      "\n",
      "  2023 Sep 2023 Oct  2023 Nov  2023 Dec  2023 Q1  2023 Q2  2023 Q3  \n",
      "0      0.0      0.0       0.0       0.0      0.0      0.0      0.0  \n",
      "1      0.0      0.0       0.0       0.0      0.0      0.0      0.0  \n",
      "2      0.0      0.0       0.0       0.0      0.0      0.0      0.0  \n",
      "3      0.0      0.0       0.0       0.0      0.0      0.0      0.0  \n",
      "4      0.0      0.0       0.0       0.0      0.0      0.0      0.0  \n",
      "\n",
      "[5 rows x 32 columns]\n"
     ]
    }
   ],
   "source": [
    "fp2023 = pd.read_excel(\"Goldmine 2023 Sales and Dealer Designation.xlsx\")\n",
    "print(fp2023.head())"
   ]
  },
  {
   "cell_type": "code",
   "execution_count": 41,
   "metadata": {},
   "outputs": [
    {
     "name": "stdout",
     "output_type": "stream",
     "text": [
      "        C1AccountNo        CXRecords  2023 Q4 PromoStandards Company Store  \\\n",
      "0  A2061733055&RY+5  91470ER(#7ZS W<      0.0            NaN           NaN   \n",
      "1  A2061733055)S{G]  91470F3(E^Q/ W<      0.0            NaN           NaN   \n",
      "2  A2061733056$FX$L  91470G4$R)&< W<      0.0            NaN           NaN   \n",
      "3  A2061733057#*N-2  91470GQ%![I! W<      0.0            NaN           NaN   \n",
      "4  A2061733058#^F7+  91470IF(9`JJ W<      0.0            NaN           NaN   \n",
      "\n",
      "   2024 Sales  2024 Jan  2024 Feb  2024 Mar  2024 Sep  \n",
      "0           0       0.0       0.0       0.0         0  \n",
      "1           0       0.0       0.0       0.0         0  \n",
      "2           0       0.0       0.0       0.0         0  \n",
      "3       44328       0.0       0.0       0.0         0  \n",
      "4           0       0.0       0.0       0.0         0  \n"
     ]
    }
   ],
   "source": [
    "sp2023 = pd.read_excel(\"Goldmine 2023 Q4 and some 2024 Sales.xlsx\")\n",
    "print(sp2023.head())"
   ]
  },
  {
   "cell_type": "markdown",
   "metadata": {},
   "source": [
    "### Initial Dataset Summaries\n",
    "* Number of Rows\n",
    "* Numbr of unique keys (composition key for each dataset)\n",
    "* Whether there are mismatched keys in two dataset: to determine whether there are missing accounts (keys) for some months\n",
    "* Examine the missing Values (Examine each column with missing values)\n",
    "* Determine whether the two datasets could be merged without additional manipulation ot information"
   ]
  },
  {
   "cell_type": "code",
   "execution_count": 42,
   "metadata": {},
   "outputs": [
    {
     "name": "stdout",
     "output_type": "stream",
     "text": [
      "(124414, 32)\n",
      "(124414, 10)\n",
      "There are 124414 unique composite keys in the Goldmine 2023 Sales and Dealer Designation Dataset\n",
      "There are 124414 unique composite keys in the Goldmine 2023 Q4 and some 2024 Sales Dataset\n",
      "No mismatched keys found in Goldmine 2023 Sales and Dealer Designation Dataset that are missing in the other dataset.\n",
      "No mismatched keys found in Goldmine 2023 Q4 and some 2024 Sales Dataset that are missing in the other dataset.\n"
     ]
    }
   ],
   "source": [
    "# Examine the number of rows and columns for each dataset\n",
    "print(fp2023.shape) \n",
    "print(sp2023.shape) \n",
    "\n",
    "# Examine the number of unique keys (C1AccountNo + CXRecords) in each dataset\n",
    "# Create composite keys for each dataset by combining 'C1AccountNo' and 'CXRecords'\n",
    "fp2023['composite_key'] = fp2023['C1AccountNo'].astype(str) + '-' + fp2023['CXRecords'].astype(str)\n",
    "sp2023['composite_key'] = sp2023['C1AccountNo'].astype(str) + '-' + sp2023['CXRecords'].astype(str)\n",
    "\n",
    "unique_keys_fp2023 = fp2023['composite_key'].nunique()\n",
    "unique_keys_sp2023 = sp2023['composite_key'].nunique()\n",
    "\n",
    "print(f\"There are {unique_keys_fp2023} unique composite keys in the Goldmine 2023 Sales and Dealer Designation Dataset\")\n",
    "print(f\"There are {unique_keys_sp2023} unique composite keys in the Goldmine 2023 Q4 and some 2024 Sales Dataset\")\n",
    "\n",
    "# Determine whether there are mismatched keys in each dataset (whether one composition key exist in one dataset but not the other one)\n",
    "\n",
    "# Convert composite keys into sets for easy comparison\n",
    "keys_fp2023 = set(fp2023['composite_key'])\n",
    "keys_sp2023 = set(sp2023['composite_key'])\n",
    "\n",
    "# Find mismatched keys\n",
    "keys_in_fp_not_in_sp_2023 = keys_fp2023 - keys_sp2023  # Keys in fp2023 but not in sp2023\n",
    "keys_in_sp_not_in_fp_2023 = keys_sp2023 - keys_fp2023  # Keys in sp2023 but not in fp2023\n",
    "\n",
    "if keys_in_fp_not_in_sp_2023:\n",
    "    print(f\"Keys in Goldmine 2023 Sales and Dealer Designation Dataset but not in Goldmine 2023 Q4 and some 2024 Sales Dataset:\")\n",
    "    print(keys_in_fp_not_in_sp_2023)\n",
    "else:\n",
    "    print(\"No mismatched keys found in Goldmine 2023 Sales and Dealer Designation Dataset that are missing in the other dataset.\")\n",
    "\n",
    "if keys_in_sp_not_in_fp_2023:\n",
    "    print(f\"Keys in Goldmine 2023 Q4 and some 2024 Sales Dataset but not in Goldmine 2023 Sales and Dealer Designation Dataset:\")\n",
    "    print(keys_in_sp_not_in_fp_2023)\n",
    "else:\n",
    "    print(\"No mismatched keys found in Goldmine 2023 Q4 and some 2024 Sales Dataset that are missing in the other dataset.\")"
   ]
  },
  {
   "cell_type": "code",
   "execution_count": 43,
   "metadata": {},
   "outputs": [
    {
     "name": "stdout",
     "output_type": "stream",
     "text": [
      "Missing values in Goldmine 2023 Sales and Dealer Designation Dataset (fp2023):\n",
      "C1AccountNo                       0\n",
      "CXRecords                         0\n",
      "Trophy Retailer 3                 0\n",
      "Trophy Retailer 4            124414\n",
      "Trophy Retailer 5            124414\n",
      "Trophy Retailer 6            124414\n",
      "Trophy Retailer 7            124414\n",
      "Trophy Retailer 8            124414\n",
      "Trophy Retailer 9            124414\n",
      "Promo Distributor 1          124413\n",
      "Promo Distributor 2          124413\n",
      "Promo Distributor 3          124413\n",
      "Promo Distributor 4          124413\n",
      "Dealer Designation           123586\n",
      "Individual Strategic Acct    122363\n",
      "2023 Individual                   0\n",
      "2023 Sales                        0\n",
      "2023 Jan                          0\n",
      "2023 Feb                          0\n",
      "2023 Mar                          0\n",
      "2023 Apr                          0\n",
      "2023 May                          0\n",
      "2023 Jun                          0\n",
      "2023 Jul                          0\n",
      "2023 Aug                          0\n",
      "2023 Sep                          0\n",
      "2023 Oct                          0\n",
      "2023 Nov                          0\n",
      "2023 Dec                          0\n",
      "2023 Q1                           0\n",
      "2023 Q2                           0\n",
      "2023 Q3                           0\n",
      "composite_key                     0\n",
      "dtype: int64\n",
      "\n",
      "Missing values in Goldmine 2023 Q4 and some 2024 Sales Dataset (sp2023):\n",
      "C1AccountNo            0\n",
      "CXRecords              0\n",
      "2023 Q4                0\n",
      "PromoStandards    123671\n",
      "Company Store     124412\n",
      "2024 Sales             0\n",
      "2024 Jan               0\n",
      "2024 Feb               0\n",
      "2024 Mar               0\n",
      "2024 Sep               0\n",
      "composite_key          0\n",
      "dtype: int64\n"
     ]
    },
    {
     "data": {
      "text/plain": [
       "' print(\"\\nColumns with missing values in Goldmine 2023 Sales and Dealer Designation Dataset (fp2023):\")\\nprint(missing_values_fp2024[missing_values_fp2023 > 0])\\n\\nprint(\"\\nColumns with missing values in Goldmine 2023 Q4 and some 2024 Sales Dataset (sp2023):\")\\nprint(missing_values_sp2024[missing_values_sp2023 > 0]) '"
      ]
     },
     "execution_count": 43,
     "metadata": {},
     "output_type": "execute_result"
    }
   ],
   "source": [
    "# Examine the missing values inside the datasets\n",
    "\n",
    "# Check for missing values in the fp2024 dataset\n",
    "missing_values_fp2023 = fp2023.isnull().sum()\n",
    "\n",
    "# Check for missing values in the sp2024 dataset\n",
    "missing_values_sp2023 = sp2023.isnull().sum()\n",
    "\n",
    "# Print the number of missing values in each column for both datasets\n",
    "print(\"Missing values in Goldmine 2023 Sales and Dealer Designation Dataset (fp2023):\")\n",
    "print(missing_values_fp2023)\n",
    "\n",
    "print(\"\\nMissing values in Goldmine 2023 Q4 and some 2024 Sales Dataset (sp2023):\")\n",
    "print(missing_values_sp2023)\n",
    "\n",
    "\n",
    "\"\"\" print(\"\\nColumns with missing values in Goldmine 2023 Sales and Dealer Designation Dataset (fp2023):\")\n",
    "print(missing_values_fp2024[missing_values_fp2023 > 0])\n",
    "\n",
    "print(\"\\nColumns with missing values in Goldmine 2023 Q4 and some 2024 Sales Dataset (sp2023):\")\n",
    "print(missing_values_sp2024[missing_values_sp2023 > 0]) \"\"\"\n"
   ]
  },
  {
   "cell_type": "code",
   "execution_count": 44,
   "metadata": {},
   "outputs": [
    {
     "name": "stdout",
     "output_type": "stream",
     "text": [
      "\n",
      "Missing values in Goldmine 2023 Q4 and some 2024 Sales Dataset (sp2023):\n",
      "C1AccountNo            0\n",
      "CXRecords              0\n",
      "2023 Q4                0\n",
      "PromoStandards    123671\n",
      "Company Store     124412\n",
      "2024 Sales             0\n",
      "2024 Jan               0\n",
      "2024 Feb               0\n",
      "2024 Mar               0\n",
      "2024 Sep               0\n",
      "composite_key          0\n",
      "dtype: int64\n"
     ]
    }
   ],
   "source": [
    "print(\"\\nMissing values in Goldmine 2023 Q4 and some 2024 Sales Dataset (sp2023):\")\n",
    "print(missing_values_sp2023)"
   ]
  },
  {
   "cell_type": "code",
   "execution_count": 45,
   "metadata": {},
   "outputs": [
    {
     "name": "stdout",
     "output_type": "stream",
     "text": [
      "0         0.0\n",
      "1         0.0\n",
      "2         0.0\n",
      "3         0.0\n",
      "4         0.0\n",
      "         ... \n",
      "124409    0.0\n",
      "124410    0.0\n",
      "124411    0.0\n",
      "124412    0.0\n",
      "124413    0.0\n",
      "Name: 2023 Individual, Length: 124414, dtype: float64\n"
     ]
    }
   ],
   "source": [
    "print(fp2023[\"2023 Individual\"])"
   ]
  },
  {
   "cell_type": "markdown",
   "metadata": {},
   "source": [
    "#### Initial Dataset Summaries\n",
    "* There are 124414 rows in each dataset\n",
    "* There are 124414 unique composite keys in the Goldmine 2023 Sales and Dealer Designation Dataset\n",
    "* There are 124414 unique composite keys in the Goldmine 2023 Q4 and some 2024 Sales Dataset\n",
    "* No mismatched keys found in the datasets\n",
    "* There are a few columns that needs to be removed since the number of missing values for these columns are greater than 90%"
   ]
  },
  {
   "cell_type": "markdown",
   "metadata": {},
   "source": [
    "### Remove columns and Merge Datasets for Year 2023\n",
    "\n",
    "* Remove the columns described above that has great percentage of missing values\n",
    "* Merge the two datasets into a dataframe that comtain the monthly sales for year 2023\n",
    "Dealer Designation           123586\n",
    "Individual Strategic Acct    122363\n",
    "2023 Individual                   0"
   ]
  },
  {
   "cell_type": "code",
   "execution_count": 46,
   "metadata": {},
   "outputs": [
    {
     "name": "stdout",
     "output_type": "stream",
     "text": [
      "        C1AccountNo        CXRecords  2023 Sales  2023 Jan  2023 Feb  \\\n",
      "0  A2061733054*,CNR  91470CV(.{82 W<           0       0.0       0.0   \n",
      "1  A2061733055$SC)`  91470EM$BC>5 W<           0       0.0       0.0   \n",
      "2  A2061733055&RY+5  91470ER(#7ZS W<           0       0.0       0.0   \n",
      "3  A2061733055&RY+5  9147BAL$5?9W W<           0       0.0       0.0   \n",
      "4  A2061733055&RY+5  9147BKI(/*KF W<           0       0.0       0.0   \n",
      "\n",
      "   2023 Mar  2023 Apr  2023 May  2023 Jun  2023 Jul  2023 Aug  2023 Sep  \\\n",
      "0       0.0       0.0       0.0       0.0       0.0       0.0       0.0   \n",
      "1       0.0       0.0       0.0       0.0       0.0       0.0       0.0   \n",
      "2       0.0       0.0       0.0       0.0       0.0       0.0       0.0   \n",
      "3       0.0       0.0       0.0       0.0       0.0       0.0       0.0   \n",
      "4       0.0       0.0       0.0       0.0       0.0       0.0       0.0   \n",
      "\n",
      "   2023 Oct  2023 Nov  2023 Dec  2023 Q1  2023 Q2  2023 Q3  \\\n",
      "0       0.0       0.0       0.0      0.0      0.0      0.0   \n",
      "1       0.0       0.0       0.0      0.0      0.0      0.0   \n",
      "2       0.0       0.0       0.0      0.0      0.0      0.0   \n",
      "3       0.0       0.0       0.0      0.0      0.0      0.0   \n",
      "4       0.0       0.0       0.0      0.0      0.0      0.0   \n",
      "\n",
      "                      composite_key  \n",
      "0  A2061733054*,CNR-91470CV(.{82 W<  \n",
      "1  A2061733055$SC)`-91470EM$BC>5 W<  \n",
      "2  A2061733055&RY+5-91470ER(#7ZS W<  \n",
      "3  A2061733055&RY+5-9147BAL$5?9W W<  \n",
      "4  A2061733055&RY+5-9147BKI(/*KF W<  \n"
     ]
    }
   ],
   "source": [
    "#Remove the columns in fp2023 dataframe\n",
    "fp2023 = fp2023.drop(columns=['Trophy Retailer 3', 'Trophy Retailer 4', 'Trophy Retailer 5', 'Trophy Retailer 6', 'Trophy Retailer 7', 'Trophy Retailer 8', 'Trophy Retailer 9', 'Promo Distributor 1', 'Promo Distributor 2', 'Promo Distributor 3', 'Promo Distributor 4', 'Dealer Designation', 'Individual Strategic Acct', '2023 Individual'])\n",
    "\n",
    "# Print the result to check if the columns have been removed\n",
    "print(fp2023.head())"
   ]
  },
  {
   "cell_type": "code",
   "execution_count": 47,
   "metadata": {},
   "outputs": [
    {
     "name": "stdout",
     "output_type": "stream",
     "text": [
      "        C1AccountNo        CXRecords  2023 Q4\n",
      "0  A2061733055&RY+5  91470ER(#7ZS W<      0.0\n",
      "1  A2061733055)S{G]  91470F3(E^Q/ W<      0.0\n",
      "2  A2061733056$FX$L  91470G4$R)&< W<      0.0\n",
      "3  A2061733057#*N-2  91470GQ%![I! W<      0.0\n",
      "4  A2061733058#^F7+  91470IF(9`JJ W<      0.0\n"
     ]
    }
   ],
   "source": [
    "# Keep only the specified columns\n",
    "sp2023 = sp2023[['C1AccountNo', 'CXRecords', '2023 Q4']]\n",
    "\n",
    "# Print the result to verify the DataFrame now contains only these columns\n",
    "print(sp2023.head())"
   ]
  },
  {
   "cell_type": "code",
   "execution_count": 48,
   "metadata": {},
   "outputs": [
    {
     "name": "stdout",
     "output_type": "stream",
     "text": [
      "        C1AccountNo        CXRecords  2023 Q4  \\\n",
      "0  A2061733055&RY+5  91470ER(#7ZS W<      0.0   \n",
      "1  A2061733055)S{G]  91470F3(E^Q/ W<      0.0   \n",
      "2  A2061733056$FX$L  91470G4$R)&< W<      0.0   \n",
      "3  A2061733057#*N-2  91470GQ%![I! W<      0.0   \n",
      "4  A2061733058#^F7+  91470IF(9`JJ W<      0.0   \n",
      "\n",
      "                      composite_key  \n",
      "0  A2061733055&RY+5-91470ER(#7ZS W<  \n",
      "1  A2061733055)S{G]-91470F3(E^Q/ W<  \n",
      "2  A2061733056$FX$L-91470G4$R)&< W<  \n",
      "3  A2061733057#*N-2-91470GQ%![I! W<  \n",
      "4  A2061733058#^F7+-91470IF(9`JJ W<  \n"
     ]
    }
   ],
   "source": [
    "sp2023['composite_key'] = sp2023['C1AccountNo'].astype(str) + '-' + sp2023['CXRecords'].astype(str)\n",
    "print(sp2023.head())"
   ]
  },
  {
   "cell_type": "code",
   "execution_count": 49,
   "metadata": {},
   "outputs": [
    {
     "name": "stdout",
     "output_type": "stream",
     "text": [
      "      C1AccountNo_x      CXRecords_x  2023 Q4  \\\n",
      "0  A2061733055&RY+5  91470ER(#7ZS W<      0.0   \n",
      "1  A2061733055)S{G]  91470F3(E^Q/ W<      0.0   \n",
      "2  A2061733056$FX$L  91470G4$R)&< W<      0.0   \n",
      "3  A2061733057#*N-2  91470GQ%![I! W<      0.0   \n",
      "4  A2061733058#^F7+  91470IF(9`JJ W<      0.0   \n",
      "\n",
      "                      composite_key     C1AccountNo_y      CXRecords_y  \\\n",
      "0  A2061733055&RY+5-91470ER(#7ZS W<  A2061733055&RY+5  91470ER(#7ZS W<   \n",
      "1  A2061733055)S{G]-91470F3(E^Q/ W<  A2061733055)S{G]  91470F3(E^Q/ W<   \n",
      "2  A2061733056$FX$L-91470G4$R)&< W<  A2061733056$FX$L  91470G4$R)&< W<   \n",
      "3  A2061733057#*N-2-91470GQ%![I! W<  A2061733057#*N-2  91470GQ%![I! W<   \n",
      "4  A2061733058#^F7+-91470IF(9`JJ W<  A2061733058#^F7+  91470IF(9`JJ W<   \n",
      "\n",
      "   2023 Sales  2023 Jan  2023 Feb  2023 Mar  ...  2023 Jun  2023 Jul  \\\n",
      "0           0      0.00      0.00      0.00  ...       0.0       0.0   \n",
      "1           0      0.00      0.00      0.00  ...       0.0       0.0   \n",
      "2           0      0.00      0.00      0.00  ...       0.0       0.0   \n",
      "3       55561  14960.72   1582.26   2425.43  ...       0.0       0.0   \n",
      "4           0      0.00      0.00      0.00  ...       0.0       0.0   \n",
      "\n",
      "   2023 Aug  2023 Sep  2023 Oct  2023 Nov  2023 Dec   2023 Q1   2023 Q2  \\\n",
      "0       0.0       0.0       0.0       0.0       0.0      0.00      0.00   \n",
      "1       0.0       0.0       0.0       0.0       0.0      0.00      0.00   \n",
      "2       0.0       0.0       0.0       0.0       0.0      0.00      0.00   \n",
      "3       0.0       0.0       0.0       0.0       0.0  18968.41  18017.78   \n",
      "4       0.0       0.0       0.0       0.0       0.0      0.00      0.00   \n",
      "\n",
      "   2023 Q3  \n",
      "0      0.0  \n",
      "1      0.0  \n",
      "2      0.0  \n",
      "3      0.0  \n",
      "4      0.0  \n",
      "\n",
      "[5 rows x 22 columns]\n",
      "(124414, 22)\n"
     ]
    }
   ],
   "source": [
    "# Merge two dataframe by composite_key column\n",
    "sales2023 = pd.merge(sp2023, fp2023, on='composite_key', how='outer')\n",
    "\n",
    "\n",
    "print(sales2023.head())\n",
    "print(sales2023.shape)"
   ]
  },
  {
   "cell_type": "code",
   "execution_count": 50,
   "metadata": {},
   "outputs": [
    {
     "name": "stdout",
     "output_type": "stream",
     "text": [
      "      C1AccountNo_x      CXRecords_x  2023 Q4  \\\n",
      "0  A2061733055&RY+5  91470ER(#7ZS W<      0.0   \n",
      "1  A2061733055)S{G]  91470F3(E^Q/ W<      0.0   \n",
      "2  A2061733056$FX$L  91470G4$R)&< W<      0.0   \n",
      "3  A2061733057#*N-2  91470GQ%![I! W<      0.0   \n",
      "4  A2061733058#^F7+  91470IF(9`JJ W<      0.0   \n",
      "\n",
      "                      composite_key  2023 Sales  2023 Jan  2023 Feb  2023 Mar  \\\n",
      "0  A2061733055&RY+5-91470ER(#7ZS W<           0      0.00      0.00      0.00   \n",
      "1  A2061733055)S{G]-91470F3(E^Q/ W<           0      0.00      0.00      0.00   \n",
      "2  A2061733056$FX$L-91470G4$R)&< W<           0      0.00      0.00      0.00   \n",
      "3  A2061733057#*N-2-91470GQ%![I! W<       55561  14960.72   1582.26   2425.43   \n",
      "4  A2061733058#^F7+-91470IF(9`JJ W<           0      0.00      0.00      0.00   \n",
      "\n",
      "   2023 Apr  2023 May  2023 Jun  2023 Jul  2023 Aug  2023 Sep  2023 Oct  \\\n",
      "0      0.00      0.00       0.0       0.0       0.0       0.0       0.0   \n",
      "1      0.00      0.00       0.0       0.0       0.0       0.0       0.0   \n",
      "2      0.00      0.00       0.0       0.0       0.0       0.0       0.0   \n",
      "3   4863.82  13153.96       0.0       0.0       0.0       0.0       0.0   \n",
      "4      0.00      0.00       0.0       0.0       0.0       0.0       0.0   \n",
      "\n",
      "   2023 Nov  2023 Dec   2023 Q1   2023 Q2  2023 Q3  \n",
      "0       0.0       0.0      0.00      0.00      0.0  \n",
      "1       0.0       0.0      0.00      0.00      0.0  \n",
      "2       0.0       0.0      0.00      0.00      0.0  \n",
      "3       0.0       0.0  18968.41  18017.78      0.0  \n",
      "4       0.0       0.0      0.00      0.00      0.0  \n",
      "(124414, 20)\n"
     ]
    }
   ],
   "source": [
    "# Remove the columns 'C1AccountNo_y' and 'CXRecords_y'\n",
    "sales2023 = sales2023.drop(columns=['C1AccountNo_y', 'CXRecords_y'])\n",
    "\n",
    "print(sales2023.head())\n",
    "print(sales2023.shape)"
   ]
  },
  {
   "cell_type": "code",
   "execution_count": 51,
   "metadata": {},
   "outputs": [
    {
     "name": "stdout",
     "output_type": "stream",
     "text": [
      "      C1AccountNo_x      CXRecords_x                     composite_key  \\\n",
      "0  A2061733055&RY+5  91470ER(#7ZS W<  A2061733055&RY+5-91470ER(#7ZS W<   \n",
      "1  A2061733055)S{G]  91470F3(E^Q/ W<  A2061733055)S{G]-91470F3(E^Q/ W<   \n",
      "2  A2061733056$FX$L  91470G4$R)&< W<  A2061733056$FX$L-91470G4$R)&< W<   \n",
      "3  A2061733057#*N-2  91470GQ%![I! W<  A2061733057#*N-2-91470GQ%![I! W<   \n",
      "4  A2061733058#^F7+  91470IF(9`JJ W<  A2061733058#^F7+-91470IF(9`JJ W<   \n",
      "\n",
      "   2023 Jan  2023 Feb  2023 Mar  2023 Apr  2023 May  2023 Jun  2023 Jul  \\\n",
      "0      0.00      0.00      0.00      0.00      0.00       0.0       0.0   \n",
      "1      0.00      0.00      0.00      0.00      0.00       0.0       0.0   \n",
      "2      0.00      0.00      0.00      0.00      0.00       0.0       0.0   \n",
      "3  14960.72   1582.26   2425.43   4863.82  13153.96       0.0       0.0   \n",
      "4      0.00      0.00      0.00      0.00      0.00       0.0       0.0   \n",
      "\n",
      "   2023 Aug  2023 Sep  2023 Oct  2023 Nov  2023 Dec   2023 Q1   2023 Q2  \\\n",
      "0       0.0       0.0       0.0       0.0       0.0      0.00      0.00   \n",
      "1       0.0       0.0       0.0       0.0       0.0      0.00      0.00   \n",
      "2       0.0       0.0       0.0       0.0       0.0      0.00      0.00   \n",
      "3       0.0       0.0       0.0       0.0       0.0  18968.41  18017.78   \n",
      "4       0.0       0.0       0.0       0.0       0.0      0.00      0.00   \n",
      "\n",
      "   2023 Q3  2023 Q4  2023 Sales  \n",
      "0      0.0      0.0           0  \n",
      "1      0.0      0.0           0  \n",
      "2      0.0      0.0           0  \n",
      "3      0.0      0.0       55561  \n",
      "4      0.0      0.0           0  \n",
      "(124414, 20)\n"
     ]
    }
   ],
   "source": [
    "# Define the desired order of columns\n",
    "desired_columns_2023 = [\n",
    "    'C1AccountNo_x', 'CXRecords_x', 'composite_key', '2023 Jan', '2023 Feb', '2023 Mar',\n",
    "    '2023 Apr', '2023 May', '2023 Jun', '2023 Jul', '2023 Aug', '2023 Sep', '2023 Oct', \n",
    "    '2023 Nov', '2023 Dec', '2023 Q1', '2023 Q2', '2023 Q3', '2023 Q4', '2023 Sales'\n",
    "]\n",
    "\n",
    "# Reorder the DataFrame columns\n",
    "sales2023 = sales2023[desired_columns_2023]\n",
    "\n",
    "print(sales2023.head())\n",
    "print(sales2023.shape)\n"
   ]
  },
  {
   "cell_type": "code",
   "execution_count": 52,
   "metadata": {},
   "outputs": [
    {
     "name": "stdout",
     "output_type": "stream",
     "text": [
      "        C1AccountNo        CXRecords                     composite_key  \\\n",
      "0  A2061733055&RY+5  91470ER(#7ZS W<  A2061733055&RY+5-91470ER(#7ZS W<   \n",
      "1  A2061733055)S{G]  91470F3(E^Q/ W<  A2061733055)S{G]-91470F3(E^Q/ W<   \n",
      "2  A2061733056$FX$L  91470G4$R)&< W<  A2061733056$FX$L-91470G4$R)&< W<   \n",
      "3  A2061733057#*N-2  91470GQ%![I! W<  A2061733057#*N-2-91470GQ%![I! W<   \n",
      "4  A2061733058#^F7+  91470IF(9`JJ W<  A2061733058#^F7+-91470IF(9`JJ W<   \n",
      "\n",
      "   2023 Jan  2023 Feb  2023 Mar  2023 Apr  2023 May  2023 Jun  2023 Jul  \\\n",
      "0      0.00      0.00      0.00      0.00      0.00       0.0       0.0   \n",
      "1      0.00      0.00      0.00      0.00      0.00       0.0       0.0   \n",
      "2      0.00      0.00      0.00      0.00      0.00       0.0       0.0   \n",
      "3  14960.72   1582.26   2425.43   4863.82  13153.96       0.0       0.0   \n",
      "4      0.00      0.00      0.00      0.00      0.00       0.0       0.0   \n",
      "\n",
      "   2023 Aug  2023 Sep  2023 Oct  2023 Nov  2023 Dec   2023 Q1   2023 Q2  \\\n",
      "0       0.0       0.0       0.0       0.0       0.0      0.00      0.00   \n",
      "1       0.0       0.0       0.0       0.0       0.0      0.00      0.00   \n",
      "2       0.0       0.0       0.0       0.0       0.0      0.00      0.00   \n",
      "3       0.0       0.0       0.0       0.0       0.0  18968.41  18017.78   \n",
      "4       0.0       0.0       0.0       0.0       0.0      0.00      0.00   \n",
      "\n",
      "   2023 Q3  2023 Q4  2023 Sales  \n",
      "0      0.0      0.0           0  \n",
      "1      0.0      0.0           0  \n",
      "2      0.0      0.0           0  \n",
      "3      0.0      0.0       55561  \n",
      "4      0.0      0.0           0  \n",
      "(124414, 20)\n"
     ]
    }
   ],
   "source": [
    "#rename the first two columns \n",
    "sales2023 = sales2023.rename(columns={\n",
    "    'C1AccountNo_x': 'C1AccountNo',\n",
    "    'CXRecords_x': 'CXRecords'\n",
    "})\n",
    "\n",
    "print(sales2023.head())\n",
    "print(sales2023.shape)"
   ]
  },
  {
   "cell_type": "markdown",
   "metadata": {},
   "source": [
    "## Data Cleaning and Data Question for Year 2023\n",
    "\n",
    "* Calculate the accurate 2023 quarter sales values based on monthly sales\n",
    "* Determine whether the 2023 Sales (column)'s value is accurate\n",
    "* record the columns with problem for questions"
   ]
  },
  {
   "cell_type": "code",
   "execution_count": 65,
   "metadata": {},
   "outputs": [
    {
     "name": "stdout",
     "output_type": "stream",
     "text": [
      "Number of rows with mismatched quarterly values:\n",
      "14294\n",
      "                 C1AccountNo        CXRecords  \\\n",
      "117         A2061733081)\\<@Q  91471EN)B59N W<   \n",
      "168         A2061733081)\\<@Q  CDVN91I+*H$+3{G   \n",
      "3220    A2061742370!),0QTMas  914GZSJ%JB\\`T&@   \n",
      "3221    A2061742370$;!6?TMas  914GZS4!?,81T&@   \n",
      "3223    A2061742370$N91 TMas  9S58DYS(F:\\, YU   \n",
      "...                      ...              ...   \n",
      "124321  C4061238623(`(A2THan  OYW838A(VLYHEU7   \n",
      "124337  C4062436718 [9[:!Eli  OZR15PZ$K31`CB\\   \n",
      "124361  C4070835240%.Y>B&Kar  P0QZVDW ONY{^!P   \n",
      "124363  C4070839854&C)H@TTon  P0R4TDK)N>[DEU7   \n",
      "124364  C4070859961(&R[67Dia  P0RQD42%,IFMCB\\   \n",
      "\n",
      "                               composite_key   2023 Jan  2023 Feb  2023 Mar  \\\n",
      "117         A2061733081)\\<@Q-91471EN)B59N W<       0.00      0.00      0.00   \n",
      "168         A2061733081)\\<@Q-CDVN91I+*H$+3{G       0.00      0.00      0.00   \n",
      "3220    A2061742370!),0QTMas-914GZSJ%JB\\`T&@       0.00      0.00      0.00   \n",
      "3221    A2061742370$;!6?TMas-914GZS4!?,81T&@       0.00      0.00      0.00   \n",
      "3223    A2061742370$N91 TMas-9S58DYS(F:\\, YU       0.00      0.00    152.84   \n",
      "...                                      ...        ...       ...       ...   \n",
      "124321  C4061238623(`(A2THan-OYW838A(VLYHEU7    3801.45  11761.79  16783.07   \n",
      "124337  C4062436718 [9[:!Eli-OZR15PZ$K31`CB\\       0.00      0.00      0.00   \n",
      "124361  C4070835240%.Y>B&Kar-P0QZVDW ONY{^!P       0.00      0.00      0.00   \n",
      "124363  C4070839854&C)H@TTon-P0R4TDK)N>[DEU7  105962.89  25453.21  27217.60   \n",
      "124364  C4070859961(&R[67Dia-P0RQD42%,IFMCB\\       0.00      0.00      0.00   \n",
      "\n",
      "        2023 Apr  2023 May  2023 Jun  2023 Jul  ...   2023 Q4  2023 Sales  \\\n",
      "117         0.00    227.20      0.00      0.00  ...      0.00           0   \n",
      "168         0.00    227.20      0.00      0.00  ...      0.00           0   \n",
      "3220        0.00    227.20      0.00      0.00  ...      0.00           0   \n",
      "3221        0.00    227.20      0.00      0.00  ...      0.00           0   \n",
      "3223      345.03      0.00      0.00      0.00  ...      0.00         483   \n",
      "...          ...       ...       ...       ...  ...       ...         ...   \n",
      "124321  12591.56   8191.57   8763.12   3364.89  ...  15335.66       92193   \n",
      "124337      0.00    227.20      0.00      0.00  ...      0.00           0   \n",
      "124361    146.19     25.64    294.20      0.00  ...    747.73        5067   \n",
      "124363  16744.23  10454.17   6969.93   1316.48  ...  27456.18      266747   \n",
      "124364      0.00    227.20      0.00      0.00  ...      0.00           0   \n",
      "\n",
      "         Q1_check  Q2_check  Q3_check  Q4_check  Q1_matches  Q2_matches  \\\n",
      "117          0.00    227.20      0.00      0.00        True       False   \n",
      "168          0.00    227.20      0.00      0.00        True       False   \n",
      "3220         0.00    227.20      0.00      0.00        True       False   \n",
      "3221         0.00    227.20      0.00      0.00        True       False   \n",
      "3223       152.84    345.03      0.00      0.00        True       False   \n",
      "...           ...       ...       ...       ...         ...         ...   \n",
      "124321   32346.31  29546.25  16772.30  15335.66       False        True   \n",
      "124337       0.00    227.20      0.00      0.00        True       False   \n",
      "124361       0.00    466.03   3864.85    747.73        True       False   \n",
      "124363  158633.70  34168.33  46545.40  27456.18       False       False   \n",
      "124364       0.00    227.20      0.00      0.00        True       False   \n",
      "\n",
      "        Q3_matches  Q4_matches  \n",
      "117           True        True  \n",
      "168           True        True  \n",
      "3220          True        True  \n",
      "3221          True        True  \n",
      "3223          True        True  \n",
      "...            ...         ...  \n",
      "124321        True        True  \n",
      "124337        True        True  \n",
      "124361        True        True  \n",
      "124363        True        True  \n",
      "124364        True        True  \n",
      "\n",
      "[14294 rows x 28 columns]\n"
     ]
    }
   ],
   "source": [
    "# Create a copy of the sales2023 DataFrame\n",
    "sales2023_copy = sales2023.copy()\n",
    "\n",
    "# Calculate the sum for each quarter\n",
    "sales2023_copy['Q1_check'] = sales2023_copy['2023 Jan'] + sales2023_copy['2023 Feb'] + sales2023_copy['2023 Mar']\n",
    "sales2023_copy['Q2_check'] = sales2023_copy['2023 Apr'] + sales2023_copy['2023 May'] + sales2023_copy['2023 Jun']\n",
    "sales2023_copy['Q3_check'] = sales2023_copy['2023 Jul'] + sales2023_copy['2023 Aug'] + sales2023_copy['2023 Sep']\n",
    "sales2023_copy['Q4_check'] = sales2023_copy['2023 Oct'] + sales2023_copy['2023 Nov'] + sales2023_copy['2023 Dec']\n",
    "\n",
    "# Use np.isclose() to compare the quarterly values with the sums, allowing for small differences\n",
    "sales2023_copy['Q1_matches'] = np.isclose(sales2023_copy['2023 Q1'], sales2023_copy['Q1_check'], atol=1e-2)\n",
    "sales2023_copy['Q2_matches'] = np.isclose(sales2023_copy['2023 Q2'], sales2023_copy['Q2_check'], atol=1e-2)\n",
    "sales2023_copy['Q3_matches'] = np.isclose(sales2023_copy['2023 Q3'], sales2023_copy['Q3_check'], atol=1e-2)\n",
    "sales2023_copy['Q4_matches'] = np.isclose(sales2023_copy['2023 Q4'], sales2023_copy['Q4_check'], atol=1e-2)\n",
    "\n",
    "# Filter rows where any of the quarterly values do not match the sum of the corresponding months\n",
    "mismatched_rows = sales2023_copy[\n",
    "    (sales2023_copy['Q1_matches'] == False) | \n",
    "    (sales2023_copy['Q2_matches'] == False) | \n",
    "    (sales2023_copy['Q3_matches'] == False) | \n",
    "    (sales2023_copy['Q4_matches'] == False)\n",
    "]\n",
    "\n",
    "# Print the number of mismatched rows and the DataFrame for analysis\n",
    "print(\"Number of rows with mismatched quarterly values:\")\n",
    "print(len(mismatched_rows))\n",
    "print(mismatched_rows)"
   ]
  },
  {
   "cell_type": "code",
   "execution_count": 66,
   "metadata": {},
   "outputs": [
    {
     "name": "stdout",
     "output_type": "stream",
     "text": [
      "C1AccountNo                      A2061733081)\\<@Q\n",
      "CXRecords                         91471EN)B59N W<\n",
      "composite_key    A2061733081)\\<@Q-91471EN)B59N W<\n",
      "2023 Jan                                      0.0\n",
      "2023 Feb                                      0.0\n",
      "2023 Mar                                      0.0\n",
      "2023 Apr                                      0.0\n",
      "2023 May                                    227.2\n",
      "2023 Jun                                      0.0\n",
      "2023 Jul                                      0.0\n",
      "2023 Aug                                      0.0\n",
      "2023 Sep                                      0.0\n",
      "2023 Oct                                      0.0\n",
      "2023 Nov                                      0.0\n",
      "2023 Dec                                      0.0\n",
      "2023 Q1                                       0.0\n",
      "2023 Q2                                       0.0\n",
      "2023 Q3                                       0.0\n",
      "2023 Q4                                       0.0\n",
      "2023 Sales                                      0\n",
      "Q1_check                                      0.0\n",
      "Q2_check                                    227.2\n",
      "Q3_check                                      0.0\n",
      "Q4_check                                      0.0\n",
      "Q1_matches                                   True\n",
      "Q2_matches                                  False\n",
      "Q3_matches                                   True\n",
      "Q4_matches                                   True\n",
      "Name: 117, dtype: object\n"
     ]
    }
   ],
   "source": [
    "print(mismatched_rows.iloc[0])"
   ]
  },
  {
   "cell_type": "code",
   "execution_count": 67,
   "metadata": {},
   "outputs": [
    {
     "name": "stdout",
     "output_type": "stream",
     "text": [
      "Number of rows where 2023 Sales does not match the sum of monthly sales:\n",
      "49592\n",
      "         C1AccountNo        CXRecords                     composite_key  \\\n",
      "3   A2061733057#*N-2  91470GQ%![I! W<  A2061733057#*N-2-91470GQ%![I! W<   \n",
      "9   A2061733059+!1ZH  91470KD*/LZZ W<  A2061733059+!1ZH-91470KD*/LZZ W<   \n",
      "12  A2061733060)(W<%  91470M0#>H/T W<  A2061733060)(W<%-91470M0#>H/T W<   \n",
      "14  A2061733061&N&YD  91470MX+MQ)I W<  A2061733061&N&YD-91470MX+MQ)I W<   \n",
      "18  A2061733063)F3!_  91470OV)-![X W<  A2061733063)F3!_-91470OV)-![X W<   \n",
      "\n",
      "    2023 Jan  2023 Feb  2023 Mar  2023 Apr  2023 May  2023 Jun  2023 Jul  ...  \\\n",
      "3   14960.72   1582.26   2425.43   4863.82  13153.96       0.0       0.0  ...   \n",
      "9       0.00      0.00      0.00      0.00      0.00       0.0       0.0  ...   \n",
      "12      0.00   1015.20      0.00      0.00    312.60       0.0       0.0  ...   \n",
      "14      0.00      0.00      0.00      0.00      0.00       0.0       0.0  ...   \n",
      "18   1760.12    755.61   2794.39    724.50    602.55       0.0       0.0  ...   \n",
      "\n",
      "    Q2_check  Q3_check  Q4_check  Q1_matches  Q2_matches  Q3_matches  \\\n",
      "3   18017.78       0.0       0.0        True        True        True   \n",
      "9       0.00       0.0       0.0        True        True        True   \n",
      "12    312.60       0.0       0.0        True        True        True   \n",
      "14      0.00       0.0       0.0        True        True        True   \n",
      "18   1327.05       0.0       0.0        True        True        True   \n",
      "\n",
      "    Q4_matches  monthly_sales_sum  monthly_sales_sum_rounded  sales_matches  \n",
      "3         True           36986.19                      36986          False  \n",
      "9         True               0.00                          0          False  \n",
      "12        True            1327.80                       1328          False  \n",
      "14        True               0.00                          0          False  \n",
      "18        True            6637.17                       6637          False  \n",
      "\n",
      "[5 rows x 31 columns]\n"
     ]
    }
   ],
   "source": [
    "# Calculate the sum of all 2023 monthly sales (Jan to Dec)\n",
    "sales2023_copy['monthly_sales_sum'] = (\n",
    "    sales2023_copy['2023 Jan'] + sales2023_copy['2023 Feb'] + sales2023_copy['2023 Mar'] +\n",
    "    sales2023_copy['2023 Apr'] + sales2023_copy['2023 May'] + sales2023_copy['2023 Jun'] +\n",
    "    sales2023_copy['2023 Jul'] + sales2023_copy['2023 Aug'] + sales2023_copy['2023 Sep'] +\n",
    "    sales2023_copy['2023 Oct'] + sales2023_copy['2023 Nov'] + sales2023_copy['2023 Dec']\n",
    ")\n",
    "\n",
    "# Round the sum to the nearest integer (0.5 rounding up)\n",
    "sales2023_copy['monthly_sales_sum_rounded'] = sales2023_copy['monthly_sales_sum'].round()\n",
    "\n",
    "# Convert the rounded sum to integer\n",
    "sales2023_copy['monthly_sales_sum_rounded'] = sales2023_copy['monthly_sales_sum_rounded'].astype(int)\n",
    "\n",
    "# Compare the rounded sum with the '2023 Sales' column\n",
    "sales2023_copy['sales_matches'] = sales2023_copy['monthly_sales_sum_rounded'] == sales2023_copy['2023 Sales']\n",
    "\n",
    "# Filter rows where the '2023 Sales' does not match the sum of the monthly sales\n",
    "mismatched_rows_2023sales = sales2023_copy[sales2023_copy['sales_matches'] == False]\n",
    "\n",
    "# Print the number of mismatched rows and the DataFrame for analysis\n",
    "print(\"Number of rows where 2023 Sales does not match the sum of monthly sales:\")\n",
    "print(len(mismatched_rows_2023sales))\n",
    "print(mismatched_rows_2023sales.head())"
   ]
  },
  {
   "cell_type": "code",
   "execution_count": 71,
   "metadata": {},
   "outputs": [
    {
     "name": "stdout",
     "output_type": "stream",
     "text": [
      "C1AccountNo                                  A2061733059+!1ZH\n",
      "CXRecords                                     91470KD*/LZZ W<\n",
      "composite_key                A2061733059+!1ZH-91470KD*/LZZ W<\n",
      "2023 Jan                                                  0.0\n",
      "2023 Feb                                                  0.0\n",
      "2023 Mar                                                  0.0\n",
      "2023 Apr                                                  0.0\n",
      "2023 May                                                  0.0\n",
      "2023 Jun                                                  0.0\n",
      "2023 Jul                                                  0.0\n",
      "2023 Aug                                                  0.0\n",
      "2023 Sep                                                  0.0\n",
      "2023 Oct                                                  0.0\n",
      "2023 Nov                                                  0.0\n",
      "2023 Dec                                                  0.0\n",
      "2023 Q1                                                   0.0\n",
      "2023 Q2                                                   0.0\n",
      "2023 Q3                                                   0.0\n",
      "2023 Q4                                                   0.0\n",
      "2023 Sales                                             266747\n",
      "Q1_check                                                  0.0\n",
      "Q2_check                                                  0.0\n",
      "Q3_check                                                  0.0\n",
      "Q4_check                                                  0.0\n",
      "Q1_matches                                               True\n",
      "Q2_matches                                               True\n",
      "Q3_matches                                               True\n",
      "Q4_matches                                               True\n",
      "monthly_sales_sum                                         0.0\n",
      "monthly_sales_sum_rounded                                   0\n",
      "sales_matches                                           False\n",
      "Name: 9, dtype: object\n"
     ]
    }
   ],
   "source": [
    "print(mismatched_rows_2023sales.iloc[1])"
   ]
  },
  {
   "cell_type": "markdown",
   "metadata": {},
   "source": [
    "### 2023 Dataset Questions\n",
    "\n",
    "* There are mismatch rows with 2023 May sales of 227.2, which the record is believed to be incorrect\n",
    "* There are currently 14294 mismatched rows based on quartly sales comparision\n",
    "- Example row: C1AccountNo                      A2061742373&AF:)TMas CXRecords  914GZW7(V&3UT&@\n",
    "- Example row: C1AccountNo                      A2061733081)\\<@Q     CXRecords  91471EN)B59N W<\n",
    "* There are 49592 rows where the 2023 Sales does not match the monthly sum\n",
    "- Example row: C1AccountNo                      A2061733078$YA`?     CXRecords  914719S%6VWJ W<     \n",
    "- Example row: C1AccountNo                      A2061733059+!1ZH     CXRecords  91470KD*/LZZ W<"
   ]
  },
  {
   "cell_type": "markdown",
   "metadata": {},
   "source": [
    "## Examine the output 2023 2024 datasets and export as excel"
   ]
  },
  {
   "cell_type": "code",
   "execution_count": 72,
   "metadata": {},
   "outputs": [
    {
     "name": "stdout",
     "output_type": "stream",
     "text": [
      "        C1AccountNo        CXRecords                     composite_key  \\\n",
      "0  A2061733055&RY+5  91470ER(#7ZS W<  A2061733055&RY+5-91470ER(#7ZS W<   \n",
      "1  A2061733055)S{G]  91470F3(E^Q/ W<  A2061733055)S{G]-91470F3(E^Q/ W<   \n",
      "2  A2061733056$FX$L  91470G4$R)&< W<  A2061733056$FX$L-91470G4$R)&< W<   \n",
      "3  A2061733057#*N-2  91470GQ%![I! W<  A2061733057#*N-2-91470GQ%![I! W<   \n",
      "4  A2061733058#^F7+  91470IF(9`JJ W<  A2061733058#^F7+-91470IF(9`JJ W<   \n",
      "\n",
      "   2024 Jan  2024 Feb  2024 Mar  2024 Apr  2024 May  2024 Jun  2024 Jul  \\\n",
      "0       0.0       0.0       0.0       0.0       0.0       0.0       0.0   \n",
      "1       0.0       0.0       0.0       0.0       0.0       0.0       0.0   \n",
      "2       0.0       0.0       0.0       0.0       0.0       0.0       0.0   \n",
      "3       0.0       0.0       0.0       0.0       0.0       0.0       0.0   \n",
      "4       0.0       0.0       0.0       0.0       0.0       0.0       0.0   \n",
      "\n",
      "   2024 Aug  2024 Sep  2024 Oct  2024 Nov  2024 Dec  2024 Q1  2024 Q2  \\\n",
      "0       0.0         0         0         0         0      0.0      0.0   \n",
      "1       0.0         0         0         0         0      0.0      0.0   \n",
      "2       0.0         0         0         0         0      0.0      0.0   \n",
      "3       0.0         0         0         0         0      0.0      0.0   \n",
      "4       0.0         0         0         0         0      0.0      0.0   \n",
      "\n",
      "   2024 Sales  \n",
      "0           0  \n",
      "1           0  \n",
      "2           0  \n",
      "3       44328  \n",
      "4           0  \n",
      "(124414, 18)\n"
     ]
    }
   ],
   "source": [
    "print(sales2024clean.head())\n",
    "print(sales2024clean.shape)"
   ]
  },
  {
   "cell_type": "code",
   "execution_count": 73,
   "metadata": {},
   "outputs": [
    {
     "name": "stdout",
     "output_type": "stream",
     "text": [
      "        C1AccountNo        CXRecords                     composite_key  \\\n",
      "0  A2061733055&RY+5  91470ER(#7ZS W<  A2061733055&RY+5-91470ER(#7ZS W<   \n",
      "1  A2061733055)S{G]  91470F3(E^Q/ W<  A2061733055)S{G]-91470F3(E^Q/ W<   \n",
      "2  A2061733056$FX$L  91470G4$R)&< W<  A2061733056$FX$L-91470G4$R)&< W<   \n",
      "3  A2061733057#*N-2  91470GQ%![I! W<  A2061733057#*N-2-91470GQ%![I! W<   \n",
      "4  A2061733058#^F7+  91470IF(9`JJ W<  A2061733058#^F7+-91470IF(9`JJ W<   \n",
      "\n",
      "   2023 Jan  2023 Feb  2023 Mar  2023 Apr  2023 May  2023 Jun  2023 Jul  \\\n",
      "0      0.00      0.00      0.00      0.00      0.00       0.0       0.0   \n",
      "1      0.00      0.00      0.00      0.00      0.00       0.0       0.0   \n",
      "2      0.00      0.00      0.00      0.00      0.00       0.0       0.0   \n",
      "3  14960.72   1582.26   2425.43   4863.82  13153.96       0.0       0.0   \n",
      "4      0.00      0.00      0.00      0.00      0.00       0.0       0.0   \n",
      "\n",
      "   2023 Aug  2023 Sep  2023 Oct  2023 Nov  2023 Dec   2023 Q1   2023 Q2  \\\n",
      "0       0.0       0.0       0.0       0.0       0.0      0.00      0.00   \n",
      "1       0.0       0.0       0.0       0.0       0.0      0.00      0.00   \n",
      "2       0.0       0.0       0.0       0.0       0.0      0.00      0.00   \n",
      "3       0.0       0.0       0.0       0.0       0.0  18968.41  18017.78   \n",
      "4       0.0       0.0       0.0       0.0       0.0      0.00      0.00   \n",
      "\n",
      "   2023 Q3  2023 Q4  2023 Sales  \n",
      "0      0.0      0.0           0  \n",
      "1      0.0      0.0           0  \n",
      "2      0.0      0.0           0  \n",
      "3      0.0      0.0       55561  \n",
      "4      0.0      0.0           0  \n",
      "(124414, 20)\n"
     ]
    }
   ],
   "source": [
    "print(sales2023.head())\n",
    "print(sales2023.shape)"
   ]
  },
  {
   "cell_type": "code",
   "execution_count": 76,
   "metadata": {},
   "outputs": [
    {
     "name": "stdout",
     "output_type": "stream",
     "text": [
      "DataFrame is written to Excel File successfully.\n"
     ]
    }
   ],
   "source": [
    "#Export bnoth dataframes to excel files\n",
    "file_name_2023 = 'Crystal D 2023 sales.xlsx'\n",
    "file_name_2024 = 'Crystal D 2024 sales.xlsx'\n",
    "sales2023.to_excel(file_name_2023, index=False)\n",
    "sales2024clean.to_excel(file_name_2024, index=False)\n",
    "\n",
    "print('DataFrame is written to Excel File successfully.')"
   ]
  }
 ],
 "metadata": {
  "kernelspec": {
   "display_name": "Python 3",
   "language": "python",
   "name": "python3"
  },
  "language_info": {
   "codemirror_mode": {
    "name": "ipython",
    "version": 3
   },
   "file_extension": ".py",
   "mimetype": "text/x-python",
   "name": "python",
   "nbconvert_exporter": "python",
   "pygments_lexer": "ipython3",
   "version": "3.10.8"
  }
 },
 "nbformat": 4,
 "nbformat_minor": 2
}
