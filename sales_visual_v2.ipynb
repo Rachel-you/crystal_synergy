{
 "cells": [
  {
   "cell_type": "markdown",
   "metadata": {},
   "source": [
    "# Sales Data Visualization - Version 2\n",
    "## - Abstract\n",
    "1. Annual Sales Data Overview\n",
    "2. Annual Sales Data By Region\n",
    "3. Quartly Sales Data Overview\n",
    "4. Monthly Sales Dara By Region by Year\n",
    "5. Monthly Sales Data by Region By Year\n",
    "6. Number of Clients with Sales Records (by Year)\n",
    "7. Average Annual Sales by Client Numbers (by Year)\n",
    "8. Most Sales amount by one client per year\n"
   ]
  },
  {
   "cell_type": "code",
   "execution_count": null,
   "metadata": {
    "vscode": {
     "languageId": "plaintext"
    }
   },
   "outputs": [],
   "source": [
    "import pandas as pd\n",
    "\n",
    "# Load the dataset\n",
    "file_path = '/mnt/data/region_cleaned_final_data.csv'\n",
    "data = pd.read_csv(file_path)\n",
    "\n",
    "# Display the first few rows of the dataset to understand its structure\n",
    "data.head()\n"
   ]
  }
 ],
 "metadata": {
  "language_info": {
   "name": "python"
  }
 },
 "nbformat": 4,
 "nbformat_minor": 2
}
